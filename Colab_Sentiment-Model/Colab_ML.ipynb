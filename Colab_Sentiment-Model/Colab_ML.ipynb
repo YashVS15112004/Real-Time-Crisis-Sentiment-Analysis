{
 "cells": [
  {
   "cell_type": "markdown",
   "metadata": {
    "id": "GM8eLKnopL_-"
   },
   "source": [
    "Data Collection from Twitter"
   ]
  },
  {
   "cell_type": "code",
   "execution_count": null,
   "metadata": {
    "colab": {
     "base_uri": "https://localhost:8080/",
     "height": 263
    },
    "id": "0y9vm5m1wAc_",
    "outputId": "b6772c0b-89f7-4d4a-9cb3-4afe2bc699ef"
   },
   "outputs": [],
   "source": [
    "import time\n",
    "import tweepy\n",
    "import pandas as pd\n",
    "\n",
    "# Authenticate (Replace with your actual keys)\n",
    "client = tweepy.Client(bearer_token=\"AAAAAAAAAAAAAAAAAAAAAA1%2BzgEAAAAAmMjwePvGSh7YaljizYO3tbdNl0Q%3Dyytf5hkyE6oan8fQ9WiIflg9mrfzWRdw3ZywFXyCoO3wrEb08b\")\n",
    "\n",
    "query = \"disaster relief -is:retweet lang:en\"\n",
    "\n",
    "# CSV file setup\n",
    "csv_filename = \"tweets.csv\"\n",
    "\n",
    "# Function to save tweets\n",
    "def save_tweets(tweets):\n",
    "    data = []\n",
    "\n",
    "    for tweet in tweets.data:\n",
    "        data.append([tweet.created_at, tweet.id, tweet.text])\n",
    "\n",
    "    df = pd.DataFrame(data, columns=[\"Timestamp\", \"Tweet ID\", \"Tweet Text\"])\n",
    "\n",
    "    # Append to CSV (without overwriting)\n",
    "    df.to_csv(csv_filename, mode=\"a\", index=False, header=not pd.io.common.file_exists(csv_filename))\n",
    "    print(f\"Saved {len(df)} tweets to {csv_filename}\")\n",
    "\n",
    "# Fetch tweets at regular intervals\n",
    "while True:\n",
    "    try:\n",
    "        tweets = client.search_recent_tweets(query=query, max_results=10, tweet_fields=[\"created_at\"])\n",
    "\n",
    "        if tweets.data:\n",
    "            save_tweets(tweets)\n",
    "        else:\n",
    "            print(\"No new tweets found.\")\n",
    "\n",
    "        print(\"Waiting 5 minutes before next fetch...\\n\")\n",
    "        time.sleep(300)\n",
    "\n",
    "    except tweepy.TooManyRequests:\n",
    "        print(\"Rate limit hit. Waiting for 15 minutes...\")\n",
    "        time.sleep(900)\n"
   ]
  },
  {
   "cell_type": "code",
   "execution_count": null,
   "metadata": {
    "colab": {
     "base_uri": "https://localhost:8080/"
    },
    "id": "REPLwrF1momo",
    "outputId": "a2f03635-74f2-4fa7-a530-43d1e8bd06fe"
   },
   "outputs": [],
   "source": [
    "import pandas as pd\n",
    "import re\n",
    "\n",
    "# Load tweets\n",
    "df = pd.read_csv(\"tweets.csv\")\n",
    "\n",
    "# Basic text cleaning function\n",
    "def clean_text(text):\n",
    "    text = str(text)\n",
    "    text = re.sub(r\"http\\S+\", \"\", text)                 # Remove URLs\n",
    "    text = re.sub(r\"@\\w+\", \"\", text)                    # Remove mentions\n",
    "    text = re.sub(r\"#\", \"\", text)                       # Remove hashtags\n",
    "    text = re.sub(r\"[^A-Za-z0-9\\s]\", \"\", text)          # Remove special characters\n",
    "    text = re.sub(r\"\\s+\", \" \", text)                    # Remove extra spaces\n",
    "    text = text.lower()                                 # Convert to lowercase\n",
    "    return text.strip()\n",
    "\n",
    "df[\"Cleaned_Text\"] = df[\"Tweet Text\"].apply(clean_text)\n",
    "\n",
    "# Save to new CSV\n",
    "df.to_csv(\"cleaned_tweets.csv\", index=False)\n",
    "print(\"Preprocessing complete. Saved to 'cleaned_tweets.csv'\")\n"
   ]
  },
  {
   "cell_type": "code",
   "execution_count": null,
   "metadata": {
    "colab": {
     "base_uri": "https://localhost:8080/"
    },
    "id": "RuGlexxcfNO2",
    "outputId": "434788d6-54aa-46f6-b226-44b3012288b1"
   },
   "outputs": [],
   "source": [
    "df = pd.read_csv(\"cleaned_tweets.csv\")\n",
    "df.head()\n",
    "df.info()"
   ]
  },
  {
   "cell_type": "markdown",
   "metadata": {
    "id": "HMt-Mri2axXW"
   },
   "source": [
    "#✅ Step 3: Sentiment & Emotion Classification"
   ]
  },
  {
   "cell_type": "code",
   "execution_count": null,
   "metadata": {
    "colab": {
     "base_uri": "https://localhost:8080/",
     "height": 664,
     "referenced_widgets": [
      "a1b7e42c1b124d48a1b560ab7680f229",
      "827a2fba40a94b9281e9213adcdafbce",
      "998cb50dfc504e8e948f6cfdda18c740",
      "6801190390e449f6b7a5d85cf3ace663",
      "72a467219ec64e3abe9bc81bb71a6e5a",
      "4dafb7a9bd66488db2bac3d57eb14e8f",
      "a82b50f4095b4ffb80ab39e5853fcfcc",
      "b947aeb08d0c48d7961b4cff31c310da",
      "05b261d657d44baba24b55febfa4e7f2",
      "a32b21927c8f4f9096dbd2621166a2da",
      "fd849982424048c1b8f42b18e944d643",
      "70cd6bb982bf412b9d67c8bfcfa4b156",
      "00bfcab91ede4433adfd6fd8efa23e1b",
      "3c3a764db8a248e4aec9969963ff1cc7",
      "46f1d40ef1b348d2b8ce2d5a616447dc",
      "ba8117b7e4a8466e8c4104973d136e51",
      "6be9bd9be8c740429d129e69c396a4a4",
      "5d6477184f644f209acd0d24e69ae879",
      "31a5ba37b32b4ba596a0f05859efbfac",
      "93d68106de7041aab7aa5055f4259b1e",
      "f0a51f0d838849c59f81bd49d034990e",
      "df75c90d4f2147928f99480455736c48",
      "e9919a7790bf484fa2c838e5427c9dfb",
      "283b42157f454dbaac94f87565ae86cc",
      "ed3024aec9ba4bf6a2e774d43078e643",
      "3bc35ba122544ec28d267724841101b7",
      "f0516157bb3349fab14a3b3d94bfd5c7",
      "8f08e2384ee54eaf87acefaf27873636",
      "273c36d29248489b89471355071a6eba",
      "393f1d845f0547cda5894761d87e2462",
      "95388b028f98471abad4bba31c9ea8fd",
      "9218408af4af4324a6ed5c54b350bf90",
      "6eec6d4e264d4466bb1f55b1af55891c",
      "a5fd694e26454663808206f899ddbea1",
      "30c1e75bed8141a480fb973a4e6b7961",
      "1adb23239a0d41b5bbc0a3953d132177",
      "75f57f25938c4984bd63c74cb22af7d9",
      "b7218426fa0a4bc59ac29a69fa70eb1e",
      "87e9921a2af44f458f0929532ebd503e",
      "4f1160a10036427ba46819f9e9fc63fa",
      "957803c19a164546a7736329d12e1b5e",
      "1cc3ff799e5a42bcb13a7350be280ff0",
      "a9341845f25c49e199f8ebbffb900250",
      "ac836b7ae7674614ac27b8ea2aedda4e",
      "1c59ddc87a6c4d8184efc24602872d4f",
      "8c4d8ce50e7e4ae98399e76886bdd43c",
      "add7e9454a284691999bdcc93d81bfaf",
      "5eac7ddaf983449e9bad3a02a836a84e",
      "a9daa0038d684d53825a01ab847a387a",
      "649c96fef7434ff1a3c5c9185e03ead1",
      "abf56fa3113741c3932d7314270621ec",
      "2857f80810524fac8eca3ebc6ba5af6e",
      "98edf1afb6aa492c802f7338a10cb56f",
      "2af993e4881b4c7b8f2b1f7e57a869ba",
      "d1eb9efc27cb4b03998a4b1b6f0ebf63",
      "a6b81f3a09574770ae887aadd040f741",
      "c0b9e307bb944cf6997e101a3a66547c",
      "3d1d3c3d6fe7432782e43f1b4a278a97",
      "0eeeb79036fc471badb1af6544243d97",
      "a83aa2a979a9417d844c198754329ac8",
      "73fd29ede86e4afa9545ed6d5f449e91",
      "66cad1bd699d43ae9490e81fd1567a9b",
      "622ffd32f31a49e9bd221b2d4973c5c2",
      "7cb1935c09074c029f033714c9d6aa4c",
      "09b5ad8d3867407aaec9208e78165ea3",
      "7b255cf3ce5a4519919c552a6237826e",
      "3d12f23a7229464ebeb9995d66826676",
      "1eb28fe504604760b0742e0a88f417a6",
      "47ba87c34ff54c1998b88aae992b6dfb",
      "31cd65b4212a4c2f830ccba86156c078",
      "6ce352d6f3564bcfbc4af277774834e8",
      "8e996c3152404cf5b84afe4cf1891b1a",
      "833c07e9d0ec4fc4abbab39808723e64",
      "888c2c0af8484e2683717ed7f42e72c7",
      "bdb1126f81314d1985c551b2400097dc",
      "25298bfe2093418da7002e4f06f0d560",
      "bcf583666a5448ea816bb899b93fa6a8",
      "d56e85c2461841e8b4483ad7844bf63a",
      "66886e94f25e4cb493c65df4b893aeae",
      "117bcd991a5d4887ab021d251dacc3ea",
      "dbb67fdeff824c33b02c966a6a5c0fe4",
      "9d41a1d9feaa45a48cdff53fa5ca8381",
      "afae0564dca44da98d37851d7e39bdca",
      "df21be07735043569054b4c478543f55",
      "ad5d7636a40a4afba4ee3ccfb5fbb772",
      "b6da6f5a35904b66b66b39fb8acc2a5d",
      "b103c36490a24b4a8ed2345e32b94d07",
      "7c0c688edf1d49ee9022f2db24045498",
      "68e0a7af39174106b0e2f23aa6181298",
      "4e4056a06aa744ebabbeebbff7dd62ed",
      "8b932fe4e157478c8ce13fa522923695",
      "6dab34bdfeda4e388a88159e5ddbb783",
      "cd1e72be13284543be1c498c96e02c85",
      "7f6ee81b994e407485fb6ece0cbef484",
      "89381f9a152c463c8b6e9a5a1b404b87",
      "3d3e77e2d27d48f884253f900c73dbf2",
      "eb20f6357a7b46d8a875456df9acdc50",
      "b4a6a39a4ef548e594075cc757ffc68a",
      "d54c342ec5764e2cafcde8f9f759b47d",
      "79b47b4cf78e49c2a265ee22aab3017a",
      "fc3296d68cdc4333a7919e064b0046a9",
      "913a832598a84be49e2d8ad673013b86",
      "861aa35e06cb4a39a53d141d2836336d",
      "1698cc8a173d42b498ff0b1e5e7f1166",
      "3fa4d9cd74b74c67b0096cea7c168457",
      "4389502289c64065b5fe32ba27b5df80",
      "2b8990f0cd6c4d0f86d69dd1baa3c104",
      "aa9ec59ddd364710a5e0a25ad06ab324",
      "3b5ca1555ae441faadefd6854e8dbae3",
      "20bd4c305d754aa2bad934e900f14f41",
      "1b217b0e73e747a8af0cdea45351a4d2",
      "0317836996094583b6af29ecc91b6496",
      "221e2f8778944270be2e14b35eb471fe",
      "67dee08d05464a559b746b9de8d6a75f",
      "0406788d063b4f23a93c76fcbf375c13",
      "f2722495f36f4c7bb1f320fe418d1a35",
      "d97677367637482ca1f776ed96619346",
      "f0200b3447d54299b8f866404c3e666c",
      "b47f326ab06f4adb9154d5634e2ad766",
      "6ef8673681a147448cb39c7472907e65",
      "cfc24cdbbe964de4a65c6e8c235e7686",
      "785731b087e14eb0a53a804b34954bf1",
      "0d90226834b04b25b4e98f8f7f3109cd",
      "7e65b86b3f0a4fb0992118f924c1ba9e",
      "6aef7d7f4ce4462299a73470d243a1c7",
      "d6e76e48f66d4919a99ec6de03a8b11d",
      "609c6afbbc254bdaa77ed7abb2475583",
      "ad6720de13fb4e0d969ee7cb931e8f66",
      "a396b26372ad4c638f49fc150acac2d7",
      "09841d72f3044180b0df170743e89285",
      "66e3cb3d518c47cfbfa2a91128d0111f",
      "1a049522f5254aafa56628b508b4dd5d"
     ]
    },
    "id": "EA03ZRIKa6-Z",
    "outputId": "b16a6da7-5895-4dfe-c715-21b3d5c494b8"
   },
   "outputs": [],
   "source": [
    "import pandas as pd\n",
    "from transformers import AutoTokenizer, AutoModelForSequenceClassification\n",
    "from transformers import pipeline\n",
    "\n",
    "# Load cleaned tweets\n",
    "df = pd.read_csv(\"cleaned_tweets.csv\")\n",
    "\n",
    "# Load sentiment model & tokenizer\n",
    "sentiment_model = pipeline(\"sentiment-analysis\", model=\"cardiffnlp/twitter-roberta-base-sentiment\")\n",
    "\n",
    "# Load emotion model\n",
    "emotion_model = pipeline(\"text-classification\", model=\"nateraw/bert-base-uncased-emotion\", return_all_scores=False)\n"
   ]
  },
  {
   "cell_type": "code",
   "execution_count": null,
   "metadata": {
    "colab": {
     "base_uri": "https://localhost:8080/"
    },
    "id": "nu8yqemefGR9",
    "outputId": "20dca732-7905-4668-f855-35f7cb1bca30"
   },
   "outputs": [],
   "source": [
    "# Apply sentiment analysis\n",
    "df[\"Sentiment\"] = df[\"Cleaned_Text\"].apply(lambda x: sentiment_model(x)[0]['label'])\n",
    "\n",
    "# Apply emotion classification\n",
    "# Access the 'label' from the first element of the list returned by emotion_model\n",
    "df[\"Emotion\"] = df[\"Cleaned_Text\"].apply(lambda x: emotion_model(x)[0]['label'])\n",
    "\n",
    "# Save results\n",
    "df.to_csv(\"analyzed_tweets.csv\", index=False)\n",
    "print(\"Sentiment and emotion classification done. Saved to 'analyzed_tweets.csv'\")"
   ]
  },
  {
   "cell_type": "code",
   "execution_count": null,
   "metadata": {
    "colab": {
     "base_uri": "https://localhost:8080/",
     "height": 206
    },
    "id": "lq3qSNXegeJE",
    "outputId": "333145f4-033a-476a-bc98-e0f2d057ae76"
   },
   "outputs": [],
   "source": [
    "df = pd.read_csv(\"analyzed_tweets.csv\")\n",
    "df.head()"
   ]
  },
  {
   "cell_type": "code",
   "execution_count": null,
   "metadata": {
    "colab": {
     "base_uri": "https://localhost:8080/",
     "height": 1000
    },
    "id": "1aBGE7Ognp69",
    "outputId": "78e6e220-ea51-46ae-a364-7216fea3812c"
   },
   "outputs": [],
   "source": [
    "# prompt: Make a pie chart or bar graph for Sentiment: Positive / Neutral / Negative\n",
    "# Emotion: Joy / Anger / Sadness / etc.\n",
    "\n",
    "import pandas as pd\n",
    "import matplotlib.pyplot as plt\n",
    "import seaborn as sns\n",
    "\n",
    "# Load the analyzed tweets data\n",
    "df = pd.read_csv(\"analyzed_tweets.csv\")\n",
    "\n",
    "# Sentiment Analysis Visualization\n",
    "plt.figure(figsize=(8, 6))\n",
    "sentiment_counts = df['Sentiment'].value_counts()\n",
    "plt.pie(sentiment_counts, labels=sentiment_counts.index, autopct='%1.1f%%', startangle=90)\n",
    "plt.title('Sentiment Distribution of Tweets')\n",
    "plt.show()\n",
    "\n",
    "# Emotion Analysis Visualization\n",
    "plt.figure(figsize=(10, 6))\n",
    "sns.countplot(x='Emotion', data=df)\n",
    "plt.title('Emotion Distribution of Tweets')\n",
    "plt.xlabel('Emotion')\n",
    "plt.ylabel('Number of Tweets')\n",
    "plt.xticks(rotation=45, ha='right')\n",
    "plt.show()\n"
   ]
  },
  {
   "cell_type": "code",
   "execution_count": null,
   "metadata": {
    "colab": {
     "base_uri": "https://localhost:8080/"
    },
    "id": "yUFa92iOghme",
    "outputId": "645f645d-c6e7-4e82-fcb1-bd4ac218fc03"
   },
   "outputs": [],
   "source": [
    "df.info()"
   ]
  },
  {
   "cell_type": "markdown",
   "metadata": {
    "id": "VW8ZSMQlgsp8"
   },
   "source": [
    "#🔥 Step 4: Urgency Detection using Zero-Shot Classification"
   ]
  },
  {
   "cell_type": "code",
   "execution_count": null,
   "metadata": {
    "colab": {
     "base_uri": "https://localhost:8080/",
     "height": 281,
     "referenced_widgets": [
      "696198134c644fd3b18d882365eff7b0",
      "a4bb9db0584547f490bb142d1a60c273",
      "2d448ecdb70640d88b09ff5527a349d6",
      "f34f4351371b43bf89d2d2c3ce9d6255",
      "5839f8976dbf476cac1a4a8829b6ed45",
      "b052ff89b66d4f4bb6564b5805675990",
      "36b7c271b0034875be2e455389c03311",
      "d86e08d7144c4af8b0fe8877ab715055",
      "2377ee4117e342c5ae68a11b57cebc1f",
      "775c735b58a6432199716853eb97726e",
      "699e89f8bf6e47dba90af09865c3317f",
      "63ab88d9ee6248db9ed54305f55b18aa",
      "787e2c6d089f4f0c8fc0fc45dcd67ca8",
      "f2797e59475445f2b7175b3abb6a029f",
      "82385db2a5624abc8eee271bb7b4975f",
      "18bbc670915d4718a01f89d514f61a57",
      "90fcd26ec334414783368c82bdf92257",
      "44296f17da114269a638f3c3de7cb4bc",
      "c4c9c7da9a7646ce98d9a83d00ed52c1",
      "e07a0b6da5184681835ba18832dff782",
      "983d8721d8c441de84143d6317f90fe7",
      "a57590a7b8d444509a7e8d1777eeb7b6",
      "d739ba50b132459b9bf13920b748a807",
      "82a4093f80fe4d02a37a57ff25ca125d",
      "39415d64923e484fad33f1dc4368399e",
      "2c7211f45f0b4645b13e89e5e8408e65",
      "83760d3d5ade4014a10d0f31a5c7944b",
      "2b1ee4892e0543348249760bfc6c9c93",
      "54e076f75a2d418c805b65f8086a2429",
      "9c67d4e32fd44022b781abf9f717cdbd",
      "579c8c587ea742d2a60d20e1d240f4ad",
      "1853de19266b4656a9d06bf5db44f8ca",
      "62bf467c96f84ebd91cb9a7404ddcd46",
      "140848d0e2b0471381278b96ca30ab47",
      "b0e072d762164516991d225829291855",
      "d596c6509fee46a3a912b74c69b93fb2",
      "a3a686a8da374c33a73e1b772f16ff8f",
      "1c122fd8b0ad4bbaaf3e25750843872c",
      "7724d8db1f2948c295fc53d87ec4858d",
      "9204e640545644f4841108c8247c5015",
      "321462ed037a41629625abb6716d8ebb",
      "fcff8c6a431f460180332b128151f4b8",
      "1857a9b698734161b870637aa4a8f188",
      "b9224f791e3b4699a1ac488b33f2ab3d",
      "3ab40cb4d9714f0597e7d3e25c04063e",
      "56414bf54f484bd388879d6e396865a5",
      "6eea32196de74613a68a9372cc1b3d14",
      "a0b106635a284c2894f5be59a81995cf",
      "f944f7e8a5de40a5bf8f17eda06b260a",
      "6eecaf3da6c34da49c2c7dddd27cdbc5",
      "20d09df51ef44f0384b518fbc582f651",
      "7d72bc0b065b4d2b8995cb3e2bb42ca8",
      "2e17a532086245aca4b691c037529b9c",
      "81cf39fab857488a98b66af32c906843",
      "28e77d3c7e6a4c5988cc77d82a084703",
      "0d48eee797ec43b1b885597a7596823b",
      "fabf186cf6ba4e26bbd8b4ad5c854cbb",
      "baabb7b2d92f4e708ede9bd990bd0d12",
      "7aba360f1e294c9ab82db2dedc7643d0",
      "8cc96c0fa3744b638108776da81a16a6",
      "9391504948ae4809badd7fbe0e6caa8f",
      "cb7d8933d96243e6a2c7bdfb4f1aefb8",
      "41da0a1a1d8d4d1c8a9cdf14260cab95",
      "8897eabc42cb4e5e878dfafd2d442d9b",
      "a29ab9d65f9546f98978539fa9b6aee2",
      "725a866e7ead4b498bc5b71980b0d1a4"
     ]
    },
    "id": "nh_LEmomgjjO",
    "outputId": "99a779cf-d937-47c3-8771-078081528df0"
   },
   "outputs": [],
   "source": [
    "classifier = pipeline(\"zero-shot-classification\", model=\"facebook/bart-large-mnli\")\n"
   ]
  },
  {
   "cell_type": "code",
   "execution_count": null,
   "metadata": {
    "id": "IYxtZZUBgwY-"
   },
   "outputs": [],
   "source": [
    "candidate_labels = [\"urgent\", \"informational\", \"misinformation\", \"irrelevant\"]\n"
   ]
  },
  {
   "cell_type": "code",
   "execution_count": null,
   "metadata": {
    "id": "sBhkUtl9hI7r"
   },
   "outputs": [],
   "source": [
    "def classify_urgency(text):\n",
    "    result = classifier(text, candidate_labels)\n",
    "    return result['labels'][0]  # Take top label\n",
    "\n",
    "df[\"Urgency_Label\"] = df[\"Cleaned_Text\"].apply(classify_urgency)\n"
   ]
  },
  {
   "cell_type": "code",
   "execution_count": null,
   "metadata": {
    "colab": {
     "base_uri": "https://localhost:8080/"
    },
    "id": "k4kIsSCQhKiS",
    "outputId": "53e4fe34-1944-42f2-c05a-64443bce5bd8"
   },
   "outputs": [],
   "source": [
    "df.to_csv(\"final_tweets_classified.csv\", index=False)\n",
    "print(\"Urgency classification complete. Saved to 'final_tweets_classified.csv'\")\n"
   ]
  },
  {
   "cell_type": "code",
   "execution_count": null,
   "metadata": {
    "colab": {
     "base_uri": "https://localhost:8080/",
     "height": 293
    },
    "id": "8cyKR9YEh4oO",
    "outputId": "63a21f0e-c360-433b-d11a-5046152a7e37"
   },
   "outputs": [],
   "source": [
    "df = pd.read_csv(\"final_tweets_classified.csv\")\n",
    "df.head()"
   ]
  },
  {
   "cell_type": "code",
   "execution_count": null,
   "metadata": {
    "colab": {
     "base_uri": "https://localhost:8080/"
    },
    "id": "XM9tN13eihDh",
    "outputId": "fdc270f1-41de-4f49-b85c-dd995616fe4a"
   },
   "outputs": [],
   "source": [
    "%%writefile app.py\n",
    "import streamlit as st\n",
    "import pandas as pd\n",
    "\n",
    "st.set_page_config(layout=\"wide\")\n",
    "st.title(\"🌍 Real-Time Disaster Tweet Monitoring Dashboard\")\n",
    "\n",
    "@st.cache_data(ttl=60)\n",
    "def load_data():\n",
    "    df = pd.read_csv(\"final_tweets_classified.csv\")\n",
    "    return df\n",
    "\n",
    "df = load_data()\n",
    "\n",
    "col1, col2 = st.columns(2)\n",
    "\n",
    "with col1:\n",
    "    st.subheader(\"📈 Sentiment Distribution\")\n",
    "    sentiment_count = df['Sentiment'].value_counts()\n",
    "    st.bar_chart(sentiment_count)\n",
    "\n",
    "with col2:\n",
    "    st.subheader(\"😶 Emotion Distribution\")\n",
    "    emotion_count = df['Emotion'].value_counts()\n",
    "    st.bar_chart(emotion_count)\n",
    "\n",
    "st.subheader(\"🚨 Urgency Classification\")\n",
    "urgency_count = df['Urgency_Label'].value_counts()\n",
    "st.bar_chart(urgency_count)\n",
    "\n",
    "st.subheader(\"🔍 Sample Classified Tweets\")\n",
    "st.dataframe(df[['Tweet Text', 'Sentiment', 'Emotion', 'Urgency_Label']].head(10))\n"
   ]
  },
  {
   "cell_type": "code",
   "execution_count": null,
   "metadata": {
    "colab": {
     "base_uri": "https://localhost:8080/"
    },
    "id": "d4NJdxBfjCF1",
    "outputId": "addf97ee-22b7-4530-e188-121e8afd4901"
   },
   "outputs": [],
   "source": [
    "!ngrok config add-authtoken 2vg6TKE6mK8PjXNKLTreD8Gax3t_3zyEMYGmKnmFJnrSNyhkG\n"
   ]
  },
  {
   "cell_type": "code",
   "execution_count": null,
   "metadata": {
    "colab": {
     "base_uri": "https://localhost:8080/",
     "height": 384
    },
    "id": "zb-b-OY4ikAE",
    "outputId": "b93eda90-240b-4b8b-91ed-b0316b37a206"
   },
   "outputs": [],
   "source": [
    "from pyngrok import ngrok\n",
    "import threading\n",
    "import time\n",
    "\n",
    "# Start the Streamlit app in a separate thread\n",
    "def run():\n",
    "    !streamlit run app.py &> logs.txt\n",
    "\n",
    "thread = threading.Thread(target=run)\n",
    "thread.start()\n",
    "time.sleep(5)  # Wait for streamlit to spin up\n",
    "\n",
    "# Open the public URL using ngrok\n",
    "url = ngrok.connect(8501)\n",
    "print(\"Streamlit app is live at:\", url)\n"
   ]
  },
  {
   "cell_type": "markdown",
   "metadata": {
    "id": "8Vu0_cK98KA1"
   },
   "source": [
    "Validation steps for:\n",
    "\n",
    "Sentiment\n",
    "\n",
    "Emotion\n",
    "\n",
    "Urgency"
   ]
  },
  {
   "cell_type": "code",
   "execution_count": null,
   "metadata": {
    "id": "fLYtz4-D5UQf"
   },
   "outputs": [],
   "source": [
    "\n",
    "manual_labels = {\n",
    "    1911415120518848659: ('LABEL_1', 'joy', 'informational'),    # Positive, hopeful relief, sharing info\n",
    "    1911414915434237964: ('LABEL_1', 'joy', 'urgent'),           # Positive, hopeful relief, urgent tone\n",
    "    1911414810266292620: ('LABEL_0', 'anger', 'informational'),  # Negative, denied relief, sharing news\n",
    "    1911414690908864816: ('LABEL_1', 'joy', 'urgent'),           # Positive, hopeful relief, urgent tone\n",
    "    1911414444631957835: ('LABEL_1', 'joy', 'informational'),    # Positive, hopeful relief, sharing info\n",
    "    1911413975780110636: ('LABEL_1', 'joy', 'informational'),    # Positive, factual about FEMA, neutral joy\n",
    "    1911413867676106767: ('LABEL_0', 'anger', 'informational'),  # Negative, angry accusations\n",
    "    1911413830522974485: ('LABEL_1', 'joy', 'informational'),    # Positive, hopeful relief\n",
    "    1911413443917132003: ('LABEL_0', 'anger', 'informational'),  # Negative, angry about ignored message\n",
    "    1911413217152106578: ('LABEL_1', 'joy', 'informational'),    # Positive, hopeful relief\n",
    "    1911451307468357738: ('LABEL_1', 'joy', 'informational'),    # Positive, proud of RSS efforts\n",
    "    1911450778855735502: ('LABEL_0', 'anger', 'informational'),  # Negative, defensive and critical\n",
    "    1911447273680085474: ('LABEL_0', 'anger', 'informational'),  # Negative, confrontational challenge\n",
    "    1911446655120867634: ('LABEL_0', 'sadness', 'informational'),# Negative, clarifying relief source\n",
    "    1911446202777747564: ('LABEL_1', 'joy', 'informational'),    # Positive, optimistic about AI\n",
    "    1911445185487155410: ('LABEL_0', 'anger', 'urgent'),         # Negative, mocking denial of relief\n",
    "    1911444903516602879: ('LABEL_0', 'sadness', 'urgent'),       # Negative, personal distress\n",
    "    1911444543569871294: ('LABEL_1', 'joy', 'informational'),    # Positive, questioning funds positively\n",
    "    1911440425430167745: ('LABEL_0', 'anger', 'informational'),  # Negative, critical of denial\n",
    "    1911456421117374810: ('LABEL_0', 'anger', 'urgent'),         # Negative, urgent about denied relief\n",
    "    1911456400179339717: ('LABEL_0', 'anger', 'informational'),  # Negative, critical of policy\n",
    "    1911455280879055353: ('LABEL_0', 'anger', 'informational'),  # Negative, critical of policy\n",
    "    1911455124423160248: ('LABEL_0', 'anger', 'informational'),  # Negative, correcting misconception\n",
    "    1911454606279815383: ('LABEL_0', 'anger', 'informational'),  # Negative, critical of policy\n",
    "    1911454368395591853: ('LABEL_0', 'anger', 'informational'),  # Negative, debunking conspiracy\n",
    "    1911461133183000651: ('LABEL_0', 'sadness', 'urgent'),       # Negative, urgent tech failure\n",
    "    1911460770510229767: ('LABEL_0', 'anger', 'informational'),  # Negative, angry defense\n",
    "    1911460523549286636: ('LABEL_0', 'anger', 'informational'),  # Negative, sarcastic critique\n",
    "    1911466915693764938: ('LABEL_1', 'sadness', 'urgent'),       # Positive, offering relief, sad context\n",
    "    1911466234723311800: ('LABEL_0', 'anger', 'misinformation'), # Negative, angry conspiracy\n",
    "    1911466014547603960: ('LABEL_0', 'sadness', 'informational'),# Negative, observational, neutral sadness\n",
    "    1911465530445451376: ('LABEL_0', 'anger', 'informational'),  # Negative, critical of unit\n",
    "    1911465460383523115: ('LABEL_0', 'anger', 'informational'),  # Negative, critical of inaction\n",
    "    1911465161883267478: ('LABEL_0', 'anger', 'informational'),  # Negative, critical priorities\n",
    "    1911465144770760866: ('LABEL_1', 'joy', 'informational'),    # Positive, listing welfare services\n",
    "    1911464640824893520: ('LABEL_1', 'sadness', 'urgent'),       # Positive, urgent call to help, sad context\n",
    "    1911462675898589404: ('LABEL_1', 'joy', 'informational'),    # Positive, clarifying FEMA policy\n",
    "    1911462540728586708: ('LABEL_0', 'sadness', 'informational'),# Negative, questioning relevance\n",
    "}\n",
    "\n",
    "df[\"True_Sentiment\"] = df[\"Tweet ID\"].map(lambda x: manual_labels.get(x, (None, None, None))[0])\n",
    "df[\"True_Emotion\"] = df[\"Tweet ID\"].map(lambda x: manual_labels.get(x, (None, None, None))[1])\n",
    "df[\"True_Urgency_Label\"] = df[\"Tweet ID\"].map(lambda x: manual_labels.get(x, (None, None, None))[2])\n",
    "\n",
    "df_eval = df.dropna(subset=[\"True_Sentiment\", \"True_Emotion\", \"True_Urgency_Label\"])\n",
    "\n",
    "df_eval[[\"Tweet ID\", \"Sentiment\", \"True_Sentiment\", \"Emotion\", \"True_Emotion\", \"Urgency_Label\", \"True_Urgency_Label\"]].head()\n"
   ]
  },
  {
   "cell_type": "code",
   "execution_count": null,
   "metadata": {
    "id": "piTgzBMiR-I-"
   },
   "outputs": [],
   "source": [
    "from sklearn.metrics import confusion_matrix, ConfusionMatrixDisplay\n",
    "import matplotlib.pyplot as plt\n",
    "import seaborn as sns\n",
    "import pandas as pd\n",
    "\n",
    "def plot_confusion_matrix(y_true, y_pred, labels, title):\n",
    "    cm = confusion_matrix(y_true, y_pred, labels=labels)\n",
    "    plt.figure(figsize=(6, 5))\n",
    "    sns.heatmap(cm, annot=True, fmt='d', cmap='Blues', xticklabels=labels, yticklabels=labels)\n",
    "    plt.title(f'Confusion Matrix: {title}')\n",
    "    plt.xlabel('Predicted')\n",
    "    plt.ylabel('True')\n",
    "    plt.tight_layout()\n",
    "    plt.show()\n",
    "\n",
    "plot_confusion_matrix(\n",
    "    df_eval[\"True_Sentiment\"],\n",
    "    df_eval[\"Sentiment\"],\n",
    "    labels=[\"LABEL_0\", \"LABEL_1\"],\n",
    "    title=\"Sentiment\"\n",
    ")\n",
    "\n",
    "emotion_labels = sorted(df_eval[\"True_Emotion\"].dropna().unique().tolist())\n",
    "plot_confusion_matrix(\n",
    "    df_eval[\"True_Emotion\"],\n",
    "    df_eval[\"Emotion\"],\n",
    "    labels=emotion_labels,\n",
    "    title=\"Emotion\"\n",
    ")\n",
    "\n",
    "urgency_labels = sorted(df_eval[\"True_Urgency_Label\"].dropna().unique().tolist())\n",
    "plot_confusion_matrix(\n",
    "    df_eval[\"True_Urgency_Label\"],\n",
    "    df_eval[\"Urgency_Label\"],\n",
    "    labels=urgency_labels,\n",
    "    title=\"Urgency Label\"\n",
    ")\n"
   ]
  },
  {
   "cell_type": "code",
   "execution_count": null,
   "metadata": {
    "id": "QGJ-lkT9dKib"
   },
   "outputs": [],
   "source": [
    "!pip install flask-ngrok transformers\n"
   ]
  },
  {
   "cell_type": "code",
   "execution_count": null,
   "metadata": {
    "colab": {
     "base_uri": "https://localhost:8080/"
    },
    "id": "H_A95xYHdzql",
    "outputId": "6544bcd8-f7c2-4e40-fdcc-887aac4f5bbc"
   },
   "outputs": [],
   "source": [
    "# Replace YOUR_AUTHTOKEN below with your own ngrok token\n",
    "!./ngrok authtoken 2vinwMFJRzrJWrtM1aIFker41Qo_3poE11V7v2SBtPQnv9nym\n"
   ]
  },
  {
   "cell_type": "code",
   "execution_count": null,
   "metadata": {
    "colab": {
     "base_uri": "https://localhost:8080/"
    },
    "id": "WDGC48YYdGQu",
    "outputId": "0a775a79-15ca-4b8b-feb3-f7a6b616b4a9"
   },
   "outputs": [],
   "source": [
    "from flask import Flask, request, jsonify\n",
    "from threading import Thread\n",
    "from transformers import pipeline\n",
    "\n",
    "app = Flask(__name__)\n",
    "\n",
    "# Load model\n",
    "classifier = pipeline(\"zero-shot-classification\", model=\"facebook/bart-large-mnli\")\n",
    "categories = [\"Distress\", \"Informational\", \"Misinformation\"]\n",
    "\n",
    "@app.route('/')\n",
    "def home():\n",
    "    return \"Tweet Classifier API is live!\"\n",
    "\n",
    "@app.route('/classify', methods=['POST'])\n",
    "def classify():\n",
    "    data = request.get_json()\n",
    "    tweet = data.get(\"text\")\n",
    "\n",
    "    if not tweet:\n",
    "        return jsonify({\"error\": \"No tweet text provided\"}), 400\n",
    "\n",
    "    result = classifier(tweet, categories)\n",
    "    return jsonify({\n",
    "        \"label\": result[\"labels\"][0],\n",
    "        \"confidence\": round(result[\"scores\"][0], 3)\n",
    "    })\n",
    "\n",
    "def run():\n",
    "    app.run(host='0.0.0.0', port=5000)\n",
    "\n",
    "# Start Flask in background thread\n",
    "Thread(target=run).start()\n"
   ]
  },
  {
   "cell_type": "code",
   "execution_count": null,
   "metadata": {
    "colab": {
     "base_uri": "https://localhost:8080/"
    },
    "id": "N_BZQ1IWe4Zk",
    "outputId": "21105141-bcee-4fbc-9ef4-ff044e3ed16d"
   },
   "outputs": [],
   "source": [
    "!pip install pyngrok"
   ]
  },
  {
   "cell_type": "code",
   "execution_count": null,
   "metadata": {
    "colab": {
     "base_uri": "https://localhost:8080/"
    },
    "id": "KYToKzw2eUvU",
    "outputId": "6eae710a-ec3f-4764-a3ed-c5187c709335"
   },
   "outputs": [],
   "source": [
    "import os\n",
    "import time\n",
    "from pyngrok import ngrok\n",
    "\n",
    "# Start ngrok tunnel\n",
    "public_url = ngrok.connect(5000)\n",
    "print(\"🚀 Public URL:\", public_url)\n"
   ]
  },
  {
   "cell_type": "code",
   "execution_count": null,
   "metadata": {
    "colab": {
     "base_uri": "https://localhost:8080/",
     "height": 375,
     "referenced_widgets": [
      "3e219ef6f6d54ac1bb2bc15103d406c4",
      "7c208cc1f0cc412fbda4fc9a756ac25f",
      "cc8fa242e7a54bd3ad7dc8659a7d65af",
      "2fa68b1df93141e9936732644047dbe7",
      "42ddfccff68c4c7f8aec3fb2943bbb9a",
      "9488569926db4e9db8c5ae01cd72657c",
      "5623c3aa884c4cc6acba531d093f38dc",
      "8be5b5699e664e8c821a13e0de413dca",
      "1e96a348e8b44500994f73454ccba9cc",
      "27b3cbe21af0461eb240a3b437a1142a",
      "f45dc6056b7c495a987ef3fc01cd3497",
      "89697adf0b494b8dbe6fdabb335dc240",
      "3133a5e43cee4c0d87ed596788b84a04",
      "e9e5c0a40451412ab2be3a5a89b444f6",
      "5148fedf679b43ea9eb6b9ef0b7d59be",
      "f4340ce657ea46a0baf5934ff35f2ffa",
      "c29597556ce641d3a9d8ffcc844b671e",
      "636e9d832fca4c6cb5c22226927a83cf",
      "12987d69ad79492ebc2b38fbb14d6f5b",
      "33979396d59d43d0af66e52d9efecb45",
      "422639327cf845049e9c780d3851d1cc",
      "813086f1d2d4412891ee0cf2ad107a2d",
      "bd8f9c2aaa7341298f24f27164501d60",
      "ecde81fff55d4299a48b0b0eb1da7933",
      "d79071ae960047119d8792b2e4456161",
      "916de41159d940fd975848f2b799f233",
      "19442f7c936e450db84f7ffd4a90b321",
      "28d5a0ee765b4efa98a26bd9353e26b6",
      "f0af1487762049f6866477e17892bc5c",
      "72fe994a3d2340ef80c18940950a1153",
      "46c93b098bfb43fbb68430c4a14df122",
      "2a2a7de91ea349ee830e41b70789fecc",
      "98d98739e8d34f38abb1ea8d3410280d",
      "bfde2ab9c14b409baa7ec6f3f36738f0",
      "1d5e37a51e34402f9c43d6b6b9f7301d",
      "feeec9b0aa4b4faaaab12290d598214f",
      "bee0c75767f64f1c8be21fd22e43db1a",
      "7caef86663e4403cb98d3256965db2bd",
      "fca737c400c942deb7fcc1e73a617774",
      "de3abc231088418ea202eaa05da8d747",
      "dfd237879e5b4d53b09ecab3440975b5",
      "5d1ce72fe770410298b3f848b74c29d1",
      "99c0d125a2ff41a29247314fade75092",
      "9c3e296000d344edaa4ae4c79f80fc28",
      "b385cc3245bf4fc89ef5bd63704c3730",
      "3ccbd09151b44a0ba1ce9dc7ccd3b3ed",
      "7b06eadb9fd849e6ba48ea9ed0ee7c9a",
      "da538bc78899421bb4c38f1f692910de",
      "6d596a2f51124010837abf4428317d03",
      "54ac369f8e0246b189555a8b651fa536",
      "82ab4442a2d64ab8b5e317e6cd4aca8b",
      "af55d7982c6e4dc38e9505ce9e3938f1",
      "939941d812f8468da0e4979e54b8ce9f",
      "d30c142559514ab3936980143095d743",
      "ab40aa938b764a7d92573ae7c410b34a",
      "59ce2024183f4d4499754d3ab7d8539d",
      "282ed3a421034d4f816dfb8777650126",
      "77e90acd5ad14a4cbe38f0b1ba09f6dc",
      "5b99e9cd30a349d7bb0e3138595d8e44",
      "2ecd1fd32f494a37bd13502b5cf8e9dd",
      "6fc1335e43eb48228124247c51fbde1f",
      "62550576ffdb4442a3589428e93f9887",
      "f61d317d85d04446abc6468cf1c40f14",
      "111661e2b913494597ecbc5179f13eb2",
      "8330207c1ea94b5e8fe1e382b5c674fe",
      "7e3f9a431a4a4f2a99db66cc089d4b85"
     ]
    },
    "id": "vjphopm-oKgu",
    "outputId": "e0ecb27b-0738-4be0-821d-7f46de449b03"
   },
   "outputs": [],
   "source": [
    "from transformers import AutoTokenizer, AutoModelForSequenceClassification\n",
    "\n",
    "model_name = \"facebook/bart-large-mnli\"\n",
    "tokenizer = AutoTokenizer.from_pretrained(model_name)\n",
    "model = AutoModelForSequenceClassification.from_pretrained(model_name)\n",
    "\n",
    "tokenizer.save_pretrained(\"my_model\")\n",
    "model.save_pretrained(\"my_model\")\n"
   ]
  },
  {
   "cell_type": "code",
   "execution_count": null,
   "metadata": {
    "colab": {
     "base_uri": "https://localhost:8080/",
     "height": 36
    },
    "id": "CHvqQvVXoTDC",
    "outputId": "afd1ad6c-ece7-4164-bdc3-e75b10fac879"
   },
   "outputs": [],
   "source": [
    "import shutil\n",
    "\n",
    "shutil.make_archive(\"my_model\", 'zip', \"my_model\")\n"
   ]
  },
  {
   "cell_type": "code",
   "execution_count": null,
   "metadata": {
    "colab": {
     "base_uri": "https://localhost:8080/",
     "height": 34
    },
    "id": "sUoLQB9ookch",
    "outputId": "6b662c47-8ce4-4efa-d817-2e6c44ed2d48"
   },
   "outputs": [],
   "source": [
    "from google.colab import files\n",
    "files.download(\"my_model.zip\")\n"
   ]
  }
 ],
 "metadata": {
  "colab": {
   "provenance": []
  },
  "kernelspec": {
   "display_name": "Python 3",
   "name": "python3"
  },
  "language_info": {
   "name": "python"
  }
 },
 "nbformat": 4,
 "nbformat_minor": 0
}
