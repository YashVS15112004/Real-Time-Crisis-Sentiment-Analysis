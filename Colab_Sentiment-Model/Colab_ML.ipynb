{
 "nbformat": 4,
 "nbformat_minor": 0,
 "metadata": {
  "colab": {
   "provenance": []
  },
  "kernelspec": {
   "name": "python3",
   "display_name": "Python 3"
  },
  "language_info": {
   "name": "python"
  }
 },
 "cells": [
  {
   "cell_type": "markdown",
   "source": [
    "Data Collection from Twitter"
   ],
   "metadata": {
    "id": "GM8eLKnopL_-"
   }
  },
  {
   "cell_type": "code",
   "source": [
    "import time\n",
    "import tweepy\n",
    "import pandas as pd\n",
    "\n",
    "# Authenticate (Replace with your actual keys)\n",
    "client = tweepy.Client(bearer_token=\"AAAAAAAAAAAAAAAAAAAAAA1%2BzgEAAAAAmMjwePvGSh7YaljizYO3tbdNl0Q%3Dyytf5hkyE6oan8fQ9WiIflg9mrfzWRdw3ZywFXyCoO3wrEb08b\")\n",
    "\n",
    "query = \"disaster relief -is:retweet lang:en\"\n",
    "\n",
    "# CSV file setup\n",
    "csv_filename = \"tweets.csv\"\n",
    "\n",
    "# Function to save tweets\n",
    "def save_tweets(tweets):\n",
    "    data = []\n",
    "\n",
    "    for tweet in tweets.data:\n",
    "        data.append([tweet.created_at, tweet.id, tweet.text])\n",
    "\n",
    "    df = pd.DataFrame(data, columns=[\"Timestamp\", \"Tweet ID\", \"Tweet Text\"])\n",
    "\n",
    "    # Append to CSV (without overwriting)\n",
    "    df.to_csv(csv_filename, mode=\"a\", index=False, header=not pd.io.common.file_exists(csv_filename))\n",
    "    print(f\"Saved {len(df)} tweets to {csv_filename}\")\n",
    "\n",
    "# Fetch tweets at regular intervals\n",
    "while True:\n",
    "    try:\n",
    "        tweets = client.search_recent_tweets(query=query, max_results=10, tweet_fields=[\"created_at\"])\n",
    "\n",
    "        if tweets.data:\n",
    "            save_tweets(tweets)\n",
    "        else:\n",
    "            print(\"No new tweets found.\")\n",
    "\n",
    "        print(\"Waiting 5 minutes before next fetch...\\n\")\n",
    "        time.sleep(300)\n",
    "\n",
    "    except tweepy.TooManyRequests:\n",
    "        print(\"Rate limit hit. Waiting for 15 minutes...\")\n",
    "        time.sleep(900)\n"
   ],
   "metadata": {
    "colab": {
     "base_uri": "https://localhost:8080/",
     "height": 263
    },
    "id": "0y9vm5m1wAc_",
    "outputId": "b6772c0b-89f7-4d4a-9cb3-4afe2bc699ef"
   },
   "execution_count": null,
   "outputs": [
    {
     "output_type": "stream",
     "name": "stdout",
     "text": [
      "Saved 10 tweets to tweets.csv\n",
      "Waiting 5 minutes before next fetch...\n",
      "\n"
     ]
    },
    {
     "output_type": "error",
     "ename": "KeyboardInterrupt",
     "evalue": "",
     "traceback": [
      "\u001b[0;31m---------------------------------------------------------------------------\u001b[0m",
      "\u001b[0;31mKeyboardInterrupt\u001b[0m                         Traceback (most recent call last)",
      "\u001b[0;32m<ipython-input-2-b5231ae1c85f>\u001b[0m in \u001b[0;36m<cell line: 0>\u001b[0;34m()\u001b[0m\n\u001b[1;32m     35\u001b[0m \u001b[0;34m\u001b[0m\u001b[0m\n\u001b[1;32m     36\u001b[0m         \u001b[0mprint\u001b[0m\u001b[0;34m(\u001b[0m\u001b[0;34m\"Waiting 5 minutes before next fetch...\\n\"\u001b[0m\u001b[0;34m)\u001b[0m\u001b[0;34m\u001b[0m\u001b[0;34m\u001b[0m\u001b[0m\n\u001b[0;32m---> 37\u001b[0;31m         \u001b[0mtime\u001b[0m\u001b[0;34m.\u001b[0m\u001b[0msleep\u001b[0m\u001b[0;34m(\u001b[0m\u001b[0;36m300\u001b[0m\u001b[0;34m)\u001b[0m\u001b[0;34m\u001b[0m\u001b[0;34m\u001b[0m\u001b[0m\n\u001b[0m\u001b[1;32m     38\u001b[0m \u001b[0;34m\u001b[0m\u001b[0m\n\u001b[1;32m     39\u001b[0m     \u001b[0;32mexcept\u001b[0m \u001b[0mtweepy\u001b[0m\u001b[0;34m.\u001b[0m\u001b[0mTooManyRequests\u001b[0m\u001b[0;34m:\u001b[0m\u001b[0;34m\u001b[0m\u001b[0;34m\u001b[0m\u001b[0m\n",
      "\u001b[0;31mKeyboardInterrupt\u001b[0m: "
     ]
    }
   ]
  },
  {
   "cell_type": "code",
   "source": [
    "import pandas as pd\n",
    "import re\n",
    "\n",
    "# Load tweets\n",
    "df = pd.read_csv(\"tweets.csv\")\n",
    "\n",
    "# Basic text cleaning function\n",
    "def clean_text(text):\n",
    "    text = str(text)\n",
    "    text = re.sub(r\"http\\S+\", \"\", text)                 # Remove URLs\n",
    "    text = re.sub(r\"@\\w+\", \"\", text)                    # Remove mentions\n",
    "    text = re.sub(r\"#\", \"\", text)                       # Remove hashtags\n",
    "    text = re.sub(r\"[^A-Za-z0-9\\s]\", \"\", text)          # Remove special characters\n",
    "    text = re.sub(r\"\\s+\", \" \", text)                    # Remove extra spaces\n",
    "    text = text.lower()                                 # Convert to lowercase\n",
    "    return text.strip()\n",
    "\n",
    "df[\"Cleaned_Text\"] = df[\"Tweet Text\"].apply(clean_text)\n",
    "\n",
    "# Save to new CSV\n",
    "df.to_csv(\"cleaned_tweets.csv\", index=False)\n",
    "print(\"Preprocessing complete. Saved to 'cleaned_tweets.csv'\")\n"
   ],
   "metadata": {
    "id": "REPLwrF1momo",
    "colab": {
     "base_uri": "https://localhost:8080/"
    },
    "outputId": "a2f03635-74f2-4fa7-a530-43d1e8bd06fe"
   },
   "execution_count": null,
   "outputs": [
    {
     "output_type": "stream",
     "name": "stdout",
     "text": [
      "Preprocessing complete. Saved to 'cleaned_tweets.csv'\n"
     ]
    }
   ]
  },
  {
   "cell_type": "code",
   "source": [
    "df = pd.read_csv(\"cleaned_tweets.csv\")\n",
    "df.head()\n",
    "df.info()"
   ],
   "metadata": {
    "colab": {
     "base_uri": "https://localhost:8080/"
    },
    "id": "RuGlexxcfNO2",
    "outputId": "434788d6-54aa-46f6-b226-44b3012288b1"
   },
   "execution_count": null,
   "outputs": [
    {
     "output_type": "stream",
     "name": "stdout",
     "text": [
      "<class 'pandas.core.frame.DataFrame'>\n",
      "RangeIndex: 10 entries, 0 to 9\n",
      "Data columns (total 4 columns):\n",
      " #   Column        Non-Null Count  Dtype \n",
      "---  ------        --------------  ----- \n",
      " 0   Timestamp     10 non-null     object\n",
      " 1   Tweet ID      10 non-null     int64 \n",
      " 2   Tweet Text    10 non-null     object\n",
      " 3   Cleaned_Text  10 non-null     object\n",
      "dtypes: int64(1), object(3)\n",
      "memory usage: 452.0+ bytes\n"
     ]
    }
   ]
  },
  {
   "cell_type": "markdown",
   "source": [
    "#\u2705 Step 3: Sentiment & Emotion Classification"
   ],
   "metadata": {
    "id": "HMt-Mri2axXW"
   }
  },
  {
   "cell_type": "code",
   "source": [
    "import pandas as pd\n",
    "from transformers import AutoTokenizer, AutoModelForSequenceClassification\n",
    "from transformers import pipeline\n",
    "\n",
    "# Load cleaned tweets\n",
    "df = pd.read_csv(\"cleaned_tweets.csv\")\n",
    "\n",
    "# Load sentiment model & tokenizer\n",
    "sentiment_model = pipeline(\"sentiment-analysis\", model=\"cardiffnlp/twitter-roberta-base-sentiment\")\n",
    "\n",
    "# Load emotion model\n",
    "emotion_model = pipeline(\"text-classification\", model=\"nateraw/bert-base-uncased-emotion\", return_all_scores=False)\n"
   ],
   "metadata": {
    "colab": {
     "base_uri": "https://localhost:8080/",
     "height": 664,
     "referenced_widgets": [
      "a1b7e42c1b124d48a1b560ab7680f229",
      "827a2fba40a94b9281e9213adcdafbce",
      "998cb50dfc504e8e948f6cfdda18c740",
      "6801190390e449f6b7a5d85cf3ace663",
      "72a467219ec64e3abe9bc81bb71a6e5a",
      "4dafb7a9bd66488db2bac3d57eb14e8f",
      "a82b50f4095b4ffb80ab39e5853fcfcc",
      "b947aeb08d0c48d7961b4cff31c310da",
      "05b261d657d44baba24b55febfa4e7f2",
      "a32b21927c8f4f9096dbd2621166a2da",
      "fd849982424048c1b8f42b18e944d643",
      "70cd6bb982bf412b9d67c8bfcfa4b156",
      "00bfcab91ede4433adfd6fd8efa23e1b",
      "3c3a764db8a248e4aec9969963ff1cc7",
      "46f1d40ef1b348d2b8ce2d5a616447dc",
      "ba8117b7e4a8466e8c4104973d136e51",
      "6be9bd9be8c740429d129e69c396a4a4",
      "5d6477184f644f209acd0d24e69ae879",
      "31a5ba37b32b4ba596a0f05859efbfac",
      "93d68106de7041aab7aa5055f4259b1e",
      "f0a51f0d838849c59f81bd49d034990e",
      "df75c90d4f2147928f99480455736c48",
      "e9919a7790bf484fa2c838e5427c9dfb",
      "283b42157f454dbaac94f87565ae86cc",
      "ed3024aec9ba4bf6a2e774d43078e643",
      "3bc35ba122544ec28d267724841101b7",
      "f0516157bb3349fab14a3b3d94bfd5c7",
      "8f08e2384ee54eaf87acefaf27873636",
      "273c36d29248489b89471355071a6eba",
      "393f1d845f0547cda5894761d87e2462",
      "95388b028f98471abad4bba31c9ea8fd",
      "9218408af4af4324a6ed5c54b350bf90",
      "6eec6d4e264d4466bb1f55b1af55891c",
      "a5fd694e26454663808206f899ddbea1",
      "30c1e75bed8141a480fb973a4e6b7961",
      "1adb23239a0d41b5bbc0a3953d132177",
      "75f57f25938c4984bd63c74cb22af7d9",
      "b7218426fa0a4bc59ac29a69fa70eb1e",
      "87e9921a2af44f458f0929532ebd503e",
      "4f1160a10036427ba46819f9e9fc63fa",
      "957803c19a164546a7736329d12e1b5e",
      "1cc3ff799e5a42bcb13a7350be280ff0",
      "a9341845f25c49e199f8ebbffb900250",
      "ac836b7ae7674614ac27b8ea2aedda4e",
      "1c59ddc87a6c4d8184efc24602872d4f",
      "8c4d8ce50e7e4ae98399e76886bdd43c",
      "add7e9454a284691999bdcc93d81bfaf",
      "5eac7ddaf983449e9bad3a02a836a84e",
      "a9daa0038d684d53825a01ab847a387a",
      "649c96fef7434ff1a3c5c9185e03ead1",
      "abf56fa3113741c3932d7314270621ec",
      "2857f80810524fac8eca3ebc6ba5af6e",
      "98edf1afb6aa492c802f7338a10cb56f",
      "2af993e4881b4c7b8f2b1f7e57a869ba",
      "d1eb9efc27cb4b03998a4b1b6f0ebf63",
      "a6b81f3a09574770ae887aadd040f741",
      "c0b9e307bb944cf6997e101a3a66547c",
      "3d1d3c3d6fe7432782e43f1b4a278a97",
      "0eeeb79036fc471badb1af6544243d97",
      "a83aa2a979a9417d844c198754329ac8",
      "73fd29ede86e4afa9545ed6d5f449e91",
      "66cad1bd699d43ae9490e81fd1567a9b",
      "622ffd32f31a49e9bd221b2d4973c5c2",
      "7cb1935c09074c029f033714c9d6aa4c",
      "09b5ad8d3867407aaec9208e78165ea3",
      "7b255cf3ce5a4519919c552a6237826e",
      "3d12f23a7229464ebeb9995d66826676",
      "1eb28fe504604760b0742e0a88f417a6",
      "47ba87c34ff54c1998b88aae992b6dfb",
      "31cd65b4212a4c2f830ccba86156c078",
      "6ce352d6f3564bcfbc4af277774834e8",
      "8e996c3152404cf5b84afe4cf1891b1a",
      "833c07e9d0ec4fc4abbab39808723e64",
      "888c2c0af8484e2683717ed7f42e72c7",
      "bdb1126f81314d1985c551b2400097dc",
      "25298bfe2093418da7002e4f06f0d560",
      "bcf583666a5448ea816bb899b93fa6a8",
      "d56e85c2461841e8b4483ad7844bf63a",
      "66886e94f25e4cb493c65df4b893aeae",
      "117bcd991a5d4887ab021d251dacc3ea",
      "dbb67fdeff824c33b02c966a6a5c0fe4",
      "9d41a1d9feaa45a48cdff53fa5ca8381",
      "afae0564dca44da98d37851d7e39bdca",
      "df21be07735043569054b4c478543f55",
      "ad5d7636a40a4afba4ee3ccfb5fbb772",
      "b6da6f5a35904b66b66b39fb8acc2a5d",
      "b103c36490a24b4a8ed2345e32b94d07",
      "7c0c688edf1d49ee9022f2db24045498",
      "68e0a7af39174106b0e2f23aa6181298",
      "4e4056a06aa744ebabbeebbff7dd62ed",
      "8b932fe4e157478c8ce13fa522923695",
      "6dab34bdfeda4e388a88159e5ddbb783",
      "cd1e72be13284543be1c498c96e02c85",
      "7f6ee81b994e407485fb6ece0cbef484",
      "89381f9a152c463c8b6e9a5a1b404b87",
      "3d3e77e2d27d48f884253f900c73dbf2",
      "eb20f6357a7b46d8a875456df9acdc50",
      "b4a6a39a4ef548e594075cc757ffc68a",
      "d54c342ec5764e2cafcde8f9f759b47d",
      "79b47b4cf78e49c2a265ee22aab3017a",
      "fc3296d68cdc4333a7919e064b0046a9",
      "913a832598a84be49e2d8ad673013b86",
      "861aa35e06cb4a39a53d141d2836336d",
      "1698cc8a173d42b498ff0b1e5e7f1166",
      "3fa4d9cd74b74c67b0096cea7c168457",
      "4389502289c64065b5fe32ba27b5df80",
      "2b8990f0cd6c4d0f86d69dd1baa3c104",
      "aa9ec59ddd364710a5e0a25ad06ab324",
      "3b5ca1555ae441faadefd6854e8dbae3",
      "20bd4c305d754aa2bad934e900f14f41",
      "1b217b0e73e747a8af0cdea45351a4d2",
      "0317836996094583b6af29ecc91b6496",
      "221e2f8778944270be2e14b35eb471fe",
      "67dee08d05464a559b746b9de8d6a75f",
      "0406788d063b4f23a93c76fcbf375c13",
      "f2722495f36f4c7bb1f320fe418d1a35",
      "d97677367637482ca1f776ed96619346",
      "f0200b3447d54299b8f866404c3e666c",
      "b47f326ab06f4adb9154d5634e2ad766",
      "6ef8673681a147448cb39c7472907e65",
      "cfc24cdbbe964de4a65c6e8c235e7686",
      "785731b087e14eb0a53a804b34954bf1",
      "0d90226834b04b25b4e98f8f7f3109cd",
      "7e65b86b3f0a4fb0992118f924c1ba9e",
      "6aef7d7f4ce4462299a73470d243a1c7",
      "d6e76e48f66d4919a99ec6de03a8b11d",
      "609c6afbbc254bdaa77ed7abb2475583",
      "ad6720de13fb4e0d969ee7cb931e8f66",
      "a396b26372ad4c638f49fc150acac2d7",
      "09841d72f3044180b0df170743e89285",
      "66e3cb3d518c47cfbfa2a91128d0111f",
      "1a049522f5254aafa56628b508b4dd5d"
     ]
    },
    "id": "EA03ZRIKa6-Z",
    "outputId": "b16a6da7-5895-4dfe-c715-21b3d5c494b8"
   },
   "execution_count": null,
   "outputs": [
    {
     "output_type": "stream",
     "name": "stderr",
     "text": [
      "/usr/local/lib/python3.11/dist-packages/huggingface_hub/utils/_auth.py:94: UserWarning: \n",
      "The secret `HF_TOKEN` does not exist in your Colab secrets.\n",
      "To authenticate with the Hugging Face Hub, create a token in your settings tab (https://huggingface.co/settings/tokens), set it as secret in your Google Colab and restart your session.\n",
      "You will be able to reuse this secret in all of your notebooks.\n",
      "Please note that authentication is recommended but still optional to access public models or datasets.\n",
      "  warnings.warn(\n"
     ]
    },
    {
     "output_type": "display_data",
     "data": {
      "text/plain": [
       "config.json:   0%|          | 0.00/747 [00:00<?, ?B/s]"
      ],
      "application/vnd.jupyter.widget-view+json": {
       "version_major": 2,
       "version_minor": 0,
       "model_id": "a1b7e42c1b124d48a1b560ab7680f229"
      }
     },
     "metadata": {}
    },
    {
     "output_type": "stream",
     "name": "stderr",
     "text": [
      "Xet Storage is enabled for this repo, but the 'hf_xet' package is not installed. Falling back to regular HTTP download. For better performance, install the package with: `pip install huggingface_hub[hf_xet]` or `pip install hf_xet`\n",
      "WARNING:huggingface_hub.file_download:Xet Storage is enabled for this repo, but the 'hf_xet' package is not installed. Falling back to regular HTTP download. For better performance, install the package with: `pip install huggingface_hub[hf_xet]` or `pip install hf_xet`\n"
     ]
    },
    {
     "output_type": "display_data",
     "data": {
      "text/plain": [
       "pytorch_model.bin:   0%|          | 0.00/499M [00:00<?, ?B/s]"
      ],
      "application/vnd.jupyter.widget-view+json": {
       "version_major": 2,
       "version_minor": 0,
       "model_id": "70cd6bb982bf412b9d67c8bfcfa4b156"
      }
     },
     "metadata": {}
    },
    {
     "output_type": "display_data",
     "data": {
      "text/plain": [
       "vocab.json:   0%|          | 0.00/899k [00:00<?, ?B/s]"
      ],
      "application/vnd.jupyter.widget-view+json": {
       "version_major": 2,
       "version_minor": 0,
       "model_id": "e9919a7790bf484fa2c838e5427c9dfb"
      }
     },
     "metadata": {}
    },
    {
     "output_type": "stream",
     "name": "stderr",
     "text": [
      "Xet Storage is enabled for this repo, but the 'hf_xet' package is not installed. Falling back to regular HTTP download. For better performance, install the package with: `pip install huggingface_hub[hf_xet]` or `pip install hf_xet`\n",
      "WARNING:huggingface_hub.file_download:Xet Storage is enabled for this repo, but the 'hf_xet' package is not installed. Falling back to regular HTTP download. For better performance, install the package with: `pip install huggingface_hub[hf_xet]` or `pip install hf_xet`\n"
     ]
    },
    {
     "output_type": "display_data",
     "data": {
      "text/plain": [
       "model.safetensors:   0%|          | 0.00/499M [00:00<?, ?B/s]"
      ],
      "application/vnd.jupyter.widget-view+json": {
       "version_major": 2,
       "version_minor": 0,
       "model_id": "a5fd694e26454663808206f899ddbea1"
      }
     },
     "metadata": {}
    },
    {
     "output_type": "display_data",
     "data": {
      "text/plain": [
       "merges.txt:   0%|          | 0.00/456k [00:00<?, ?B/s]"
      ],
      "application/vnd.jupyter.widget-view+json": {
       "version_major": 2,
       "version_minor": 0,
       "model_id": "1c59ddc87a6c4d8184efc24602872d4f"
      }
     },
     "metadata": {}
    },
    {
     "output_type": "display_data",
     "data": {
      "text/plain": [
       "special_tokens_map.json:   0%|          | 0.00/150 [00:00<?, ?B/s]"
      ],
      "application/vnd.jupyter.widget-view+json": {
       "version_major": 2,
       "version_minor": 0,
       "model_id": "a6b81f3a09574770ae887aadd040f741"
      }
     },
     "metadata": {}
    },
    {
     "output_type": "stream",
     "name": "stderr",
     "text": [
      "Device set to use cpu\n"
     ]
    },
    {
     "output_type": "display_data",
     "data": {
      "text/plain": [
       "config.json:   0%|          | 0.00/768 [00:00<?, ?B/s]"
      ],
      "application/vnd.jupyter.widget-view+json": {
       "version_major": 2,
       "version_minor": 0,
       "model_id": "3d12f23a7229464ebeb9995d66826676"
      }
     },
     "metadata": {}
    },
    {
     "output_type": "display_data",
     "data": {
      "text/plain": [
       "pytorch_model.bin:   0%|          | 0.00/438M [00:00<?, ?B/s]"
      ],
      "application/vnd.jupyter.widget-view+json": {
       "version_major": 2,
       "version_minor": 0,
       "model_id": "d56e85c2461841e8b4483ad7844bf63a"
      }
     },
     "metadata": {}
    },
    {
     "output_type": "display_data",
     "data": {
      "text/plain": [
       "tokenizer_config.json:   0%|          | 0.00/252 [00:00<?, ?B/s]"
      ],
      "application/vnd.jupyter.widget-view+json": {
       "version_major": 2,
       "version_minor": 0,
       "model_id": "68e0a7af39174106b0e2f23aa6181298"
      }
     },
     "metadata": {}
    },
    {
     "output_type": "display_data",
     "data": {
      "text/plain": [
       "vocab.txt:   0%|          | 0.00/232k [00:00<?, ?B/s]"
      ],
      "application/vnd.jupyter.widget-view+json": {
       "version_major": 2,
       "version_minor": 0,
       "model_id": "79b47b4cf78e49c2a265ee22aab3017a"
      }
     },
     "metadata": {}
    },
    {
     "output_type": "display_data",
     "data": {
      "text/plain": [
       "model.safetensors:   0%|          | 0.00/438M [00:00<?, ?B/s]"
      ],
      "application/vnd.jupyter.widget-view+json": {
       "version_major": 2,
       "version_minor": 0,
       "model_id": "1b217b0e73e747a8af0cdea45351a4d2"
      }
     },
     "metadata": {}
    },
    {
     "output_type": "display_data",
     "data": {
      "text/plain": [
       "special_tokens_map.json:   0%|          | 0.00/112 [00:00<?, ?B/s]"
      ],
      "application/vnd.jupyter.widget-view+json": {
       "version_major": 2,
       "version_minor": 0,
       "model_id": "785731b087e14eb0a53a804b34954bf1"
      }
     },
     "metadata": {}
    },
    {
     "output_type": "stream",
     "name": "stderr",
     "text": [
      "Device set to use cpu\n",
      "/usr/local/lib/python3.11/dist-packages/transformers/pipelines/text_classification.py:106: UserWarning: `return_all_scores` is now deprecated,  if want a similar functionality use `top_k=None` instead of `return_all_scores=True` or `top_k=1` instead of `return_all_scores=False`.\n",
      "  warnings.warn(\n"
     ]
    }
   ]
  },
  {
   "cell_type": "code",
   "source": [
    "# Apply sentiment analysis\n",
    "df[\"Sentiment\"] = df[\"Cleaned_Text\"].apply(lambda x: sentiment_model(x)[0]['label'])\n",
    "\n",
    "# Apply emotion classification\n",
    "# Access the 'label' from the first element of the list returned by emotion_model\n",
    "df[\"Emotion\"] = df[\"Cleaned_Text\"].apply(lambda x: emotion_model(x)[0]['label'])\n",
    "\n",
    "# Save results\n",
    "df.to_csv(\"analyzed_tweets.csv\", index=False)\n",
    "print(\"Sentiment and emotion classification done. Saved to 'analyzed_tweets.csv'\")"
   ],
   "metadata": {
    "colab": {
     "base_uri": "https://localhost:8080/"
    },
    "id": "nu8yqemefGR9",
    "outputId": "20dca732-7905-4668-f855-35f7cb1bca30"
   },
   "execution_count": null,
   "outputs": [
    {
     "output_type": "stream",
     "name": "stdout",
     "text": [
      "Sentiment and emotion classification done. Saved to 'analyzed_tweets.csv'\n"
     ]
    }
   ]
  },
  {
   "cell_type": "code",
   "source": [
    "df = pd.read_csv(\"analyzed_tweets.csv\")\n",
    "df.head()"
   ],
   "metadata": {
    "colab": {
     "base_uri": "https://localhost:8080/",
     "height": 206
    },
    "id": "lq3qSNXegeJE",
    "outputId": "333145f4-033a-476a-bc98-e0f2d057ae76"
   },
   "execution_count": null,
   "outputs": [
    {
     "output_type": "execute_result",
     "data": {
      "text/plain": [
       "                   Timestamp             Tweet ID  \\\n",
       "0  2025-04-15 17:55:51+00:00  1912203227572941197   \n",
       "1  2025-04-15 17:54:14+00:00  1912202820427882848   \n",
       "2  2025-04-15 17:53:49+00:00  1912202717013090555   \n",
       "3  2025-04-15 17:49:20+00:00  1912201587620970556   \n",
       "4  2025-04-15 17:47:38+00:00  1912201160217542766   \n",
       "\n",
       "                                          Tweet Text  \\\n",
       "0  @GovBraun I am declaring a disaster emergency ...   \n",
       "1  Review also this comment: https://t.co/xoTqyJvrD9   \n",
       "2  The Seattle Times @seattletimes 21h\\nThe Feder...   \n",
       "3  @RapidResponse47 @PressSec No federal funding ...   \n",
       "4  And this is just one reason why NO FEDERAL FUN...   \n",
       "\n",
       "                                        Cleaned_Text Sentiment  Emotion  \n",
       "0  i am declaring a disaster emergency for govern...   LABEL_0      joy  \n",
       "1                           review also this comment   LABEL_1    anger  \n",
       "2  the seattle times 21h the federal emergency ma...   LABEL_1    anger  \n",
       "3  no federal funding should be to any university...   LABEL_1  sadness  \n",
       "4  and this is just one reason why no federal fun...   LABEL_0    anger  "
      ],
      "text/html": [
       "\n",
       "  <div id=\"df-656a0d31-7107-4852-bc74-919dde9e32dd\" class=\"colab-df-container\">\n",
       "    <div>\n",
       "<style scoped>\n",
       "    .dataframe tbody tr th:only-of-type {\n",
       "        vertical-align: middle;\n",
       "    }\n",
       "\n",
       "    .dataframe tbody tr th {\n",
       "        vertical-align: top;\n",
       "    }\n",
       "\n",
       "    .dataframe thead th {\n",
       "        text-align: right;\n",
       "    }\n",
       "</style>\n",
       "<table border=\"1\" class=\"dataframe\">\n",
       "  <thead>\n",
       "    <tr style=\"text-align: right;\">\n",
       "      <th></th>\n",
       "      <th>Timestamp</th>\n",
       "      <th>Tweet ID</th>\n",
       "      <th>Tweet Text</th>\n",
       "      <th>Cleaned_Text</th>\n",
       "      <th>Sentiment</th>\n",
       "      <th>Emotion</th>\n",
       "    </tr>\n",
       "  </thead>\n",
       "  <tbody>\n",
       "    <tr>\n",
       "      <th>0</th>\n",
       "      <td>2025-04-15 17:55:51+00:00</td>\n",
       "      <td>1912203227572941197</td>\n",
       "      <td>@GovBraun I am declaring a disaster emergency ...</td>\n",
       "      <td>i am declaring a disaster emergency for govern...</td>\n",
       "      <td>LABEL_0</td>\n",
       "      <td>joy</td>\n",
       "    </tr>\n",
       "    <tr>\n",
       "      <th>1</th>\n",
       "      <td>2025-04-15 17:54:14+00:00</td>\n",
       "      <td>1912202820427882848</td>\n",
       "      <td>Review also this comment: https://t.co/xoTqyJvrD9</td>\n",
       "      <td>review also this comment</td>\n",
       "      <td>LABEL_1</td>\n",
       "      <td>anger</td>\n",
       "    </tr>\n",
       "    <tr>\n",
       "      <th>2</th>\n",
       "      <td>2025-04-15 17:53:49+00:00</td>\n",
       "      <td>1912202717013090555</td>\n",
       "      <td>The Seattle Times @seattletimes 21h\\nThe Feder...</td>\n",
       "      <td>the seattle times 21h the federal emergency ma...</td>\n",
       "      <td>LABEL_1</td>\n",
       "      <td>anger</td>\n",
       "    </tr>\n",
       "    <tr>\n",
       "      <th>3</th>\n",
       "      <td>2025-04-15 17:49:20+00:00</td>\n",
       "      <td>1912201587620970556</td>\n",
       "      <td>@RapidResponse47 @PressSec No federal funding ...</td>\n",
       "      <td>no federal funding should be to any university...</td>\n",
       "      <td>LABEL_1</td>\n",
       "      <td>sadness</td>\n",
       "    </tr>\n",
       "    <tr>\n",
       "      <th>4</th>\n",
       "      <td>2025-04-15 17:47:38+00:00</td>\n",
       "      <td>1912201160217542766</td>\n",
       "      <td>And this is just one reason why NO FEDERAL FUN...</td>\n",
       "      <td>and this is just one reason why no federal fun...</td>\n",
       "      <td>LABEL_0</td>\n",
       "      <td>anger</td>\n",
       "    </tr>\n",
       "  </tbody>\n",
       "</table>\n",
       "</div>\n",
       "    <div class=\"colab-df-buttons\">\n",
       "\n",
       "  <div class=\"colab-df-container\">\n",
       "    <button class=\"colab-df-convert\" onclick=\"convertToInteractive('df-656a0d31-7107-4852-bc74-919dde9e32dd')\"\n",
       "            title=\"Convert this dataframe to an interactive table.\"\n",
       "            style=\"display:none;\">\n",
       "\n",
       "  <svg xmlns=\"http://www.w3.org/2000/svg\" height=\"24px\" viewBox=\"0 -960 960 960\">\n",
       "    <path d=\"M120-120v-720h720v720H120Zm60-500h600v-160H180v160Zm220 220h160v-160H400v160Zm0 220h160v-160H400v160ZM180-400h160v-160H180v160Zm440 0h160v-160H620v160ZM180-180h160v-160H180v160Zm440 0h160v-160H620v160Z\"/>\n",
       "  </svg>\n",
       "    </button>\n",
       "\n",
       "  <style>\n",
       "    .colab-df-container {\n",
       "      display:flex;\n",
       "      gap: 12px;\n",
       "    }\n",
       "\n",
       "    .colab-df-convert {\n",
       "      background-color: #E8F0FE;\n",
       "      border: none;\n",
       "      border-radius: 50%;\n",
       "      cursor: pointer;\n",
       "      display: none;\n",
       "      fill: #1967D2;\n",
       "      height: 32px;\n",
       "      padding: 0 0 0 0;\n",
       "      width: 32px;\n",
       "    }\n",
       "\n",
       "    .colab-df-convert:hover {\n",
       "      background-color: #E2EBFA;\n",
       "      box-shadow: 0px 1px 2px rgba(60, 64, 67, 0.3), 0px 1px 3px 1px rgba(60, 64, 67, 0.15);\n",
       "      fill: #174EA6;\n",
       "    }\n",
       "\n",
       "    .colab-df-buttons div {\n",
       "      margin-bottom: 4px;\n",
       "    }\n",
       "\n",
       "    [theme=dark] .colab-df-convert {\n",
       "      background-color: #3B4455;\n",
       "      fill: #D2E3FC;\n",
       "    }\n",
       "\n",
       "    [theme=dark] .colab-df-convert:hover {\n",
       "      background-color: #434B5C;\n",
       "      box-shadow: 0px 1px 3px 1px rgba(0, 0, 0, 0.15);\n",
       "      filter: drop-shadow(0px 1px 2px rgba(0, 0, 0, 0.3));\n",
       "      fill: #FFFFFF;\n",
       "    }\n",
       "  </style>\n",
       "\n",
       "    <script>\n",
       "      const buttonEl =\n",
       "        document.querySelector('#df-656a0d31-7107-4852-bc74-919dde9e32dd button.colab-df-convert');\n",
       "      buttonEl.style.display =\n",
       "        google.colab.kernel.accessAllowed ? 'block' : 'none';\n",
       "\n",
       "      async function convertToInteractive(key) {\n",
       "        const element = document.querySelector('#df-656a0d31-7107-4852-bc74-919dde9e32dd');\n",
       "        const dataTable =\n",
       "          await google.colab.kernel.invokeFunction('convertToInteractive',\n",
       "                                                    [key], {});\n",
       "        if (!dataTable) return;\n",
       "\n",
       "        const docLinkHtml = 'Like what you see? Visit the ' +\n",
       "          '<a target=\"_blank\" href=https://colab.research.google.com/notebooks/data_table.ipynb>data table notebook</a>'\n",
       "          + ' to learn more about interactive tables.';\n",
       "        element.innerHTML = '';\n",
       "        dataTable['output_type'] = 'display_data';\n",
       "        await google.colab.output.renderOutput(dataTable, element);\n",
       "        const docLink = document.createElement('div');\n",
       "        docLink.innerHTML = docLinkHtml;\n",
       "        element.appendChild(docLink);\n",
       "      }\n",
       "    </script>\n",
       "  </div>\n",
       "\n",
       "\n",
       "<div id=\"df-d127544b-9355-4b46-bef0-8158437d9cfe\">\n",
       "  <button class=\"colab-df-quickchart\" onclick=\"quickchart('df-d127544b-9355-4b46-bef0-8158437d9cfe')\"\n",
       "            title=\"Suggest charts\"\n",
       "            style=\"display:none;\">\n",
       "\n",
       "<svg xmlns=\"http://www.w3.org/2000/svg\" height=\"24px\"viewBox=\"0 0 24 24\"\n",
       "     width=\"24px\">\n",
       "    <g>\n",
       "        <path d=\"M19 3H5c-1.1 0-2 .9-2 2v14c0 1.1.9 2 2 2h14c1.1 0 2-.9 2-2V5c0-1.1-.9-2-2-2zM9 17H7v-7h2v7zm4 0h-2V7h2v10zm4 0h-2v-4h2v4z\"/>\n",
       "    </g>\n",
       "</svg>\n",
       "  </button>\n",
       "\n",
       "<style>\n",
       "  .colab-df-quickchart {\n",
       "      --bg-color: #E8F0FE;\n",
       "      --fill-color: #1967D2;\n",
       "      --hover-bg-color: #E2EBFA;\n",
       "      --hover-fill-color: #174EA6;\n",
       "      --disabled-fill-color: #AAA;\n",
       "      --disabled-bg-color: #DDD;\n",
       "  }\n",
       "\n",
       "  [theme=dark] .colab-df-quickchart {\n",
       "      --bg-color: #3B4455;\n",
       "      --fill-color: #D2E3FC;\n",
       "      --hover-bg-color: #434B5C;\n",
       "      --hover-fill-color: #FFFFFF;\n",
       "      --disabled-bg-color: #3B4455;\n",
       "      --disabled-fill-color: #666;\n",
       "  }\n",
       "\n",
       "  .colab-df-quickchart {\n",
       "    background-color: var(--bg-color);\n",
       "    border: none;\n",
       "    border-radius: 50%;\n",
       "    cursor: pointer;\n",
       "    display: none;\n",
       "    fill: var(--fill-color);\n",
       "    height: 32px;\n",
       "    padding: 0;\n",
       "    width: 32px;\n",
       "  }\n",
       "\n",
       "  .colab-df-quickchart:hover {\n",
       "    background-color: var(--hover-bg-color);\n",
       "    box-shadow: 0 1px 2px rgba(60, 64, 67, 0.3), 0 1px 3px 1px rgba(60, 64, 67, 0.15);\n",
       "    fill: var(--button-hover-fill-color);\n",
       "  }\n",
       "\n",
       "  .colab-df-quickchart-complete:disabled,\n",
       "  .colab-df-quickchart-complete:disabled:hover {\n",
       "    background-color: var(--disabled-bg-color);\n",
       "    fill: var(--disabled-fill-color);\n",
       "    box-shadow: none;\n",
       "  }\n",
       "\n",
       "  .colab-df-spinner {\n",
       "    border: 2px solid var(--fill-color);\n",
       "    border-color: transparent;\n",
       "    border-bottom-color: var(--fill-color);\n",
       "    animation:\n",
       "      spin 1s steps(1) infinite;\n",
       "  }\n",
       "\n",
       "  @keyframes spin {\n",
       "    0% {\n",
       "      border-color: transparent;\n",
       "      border-bottom-color: var(--fill-color);\n",
       "      border-left-color: var(--fill-color);\n",
       "    }\n",
       "    20% {\n",
       "      border-color: transparent;\n",
       "      border-left-color: var(--fill-color);\n",
       "      border-top-color: var(--fill-color);\n",
       "    }\n",
       "    30% {\n",
       "      border-color: transparent;\n",
       "      border-left-color: var(--fill-color);\n",
       "      border-top-color: var(--fill-color);\n",
       "      border-right-color: var(--fill-color);\n",
       "    }\n",
       "    40% {\n",
       "      border-color: transparent;\n",
       "      border-right-color: var(--fill-color);\n",
       "      border-top-color: var(--fill-color);\n",
       "    }\n",
       "    60% {\n",
       "      border-color: transparent;\n",
       "      border-right-color: var(--fill-color);\n",
       "    }\n",
       "    80% {\n",
       "      border-color: transparent;\n",
       "      border-right-color: var(--fill-color);\n",
       "      border-bottom-color: var(--fill-color);\n",
       "    }\n",
       "    90% {\n",
       "      border-color: transparent;\n",
       "      border-bottom-color: var(--fill-color);\n",
       "    }\n",
       "  }\n",
       "</style>\n",
       "\n",
       "  <script>\n",
       "    async function quickchart(key) {\n",
       "      const quickchartButtonEl =\n",
       "        document.querySelector('#' + key + ' button');\n",
       "      quickchartButtonEl.disabled = true;  // To prevent multiple clicks.\n",
       "      quickchartButtonEl.classList.add('colab-df-spinner');\n",
       "      try {\n",
       "        const charts = await google.colab.kernel.invokeFunction(\n",
       "            'suggestCharts', [key], {});\n",
       "      } catch (error) {\n",
       "        console.error('Error during call to suggestCharts:', error);\n",
       "      }\n",
       "      quickchartButtonEl.classList.remove('colab-df-spinner');\n",
       "      quickchartButtonEl.classList.add('colab-df-quickchart-complete');\n",
       "    }\n",
       "    (() => {\n",
       "      let quickchartButtonEl =\n",
       "        document.querySelector('#df-d127544b-9355-4b46-bef0-8158437d9cfe button');\n",
       "      quickchartButtonEl.style.display =\n",
       "        google.colab.kernel.accessAllowed ? 'block' : 'none';\n",
       "    })();\n",
       "  </script>\n",
       "</div>\n",
       "\n",
       "    </div>\n",
       "  </div>\n"
      ],
      "application/vnd.google.colaboratory.intrinsic+json": {
       "type": "dataframe",
       "variable_name": "df",
       "summary": "{\n  \"name\": \"df\",\n  \"rows\": 10,\n  \"fields\": [\n    {\n      \"column\": \"Timestamp\",\n      \"properties\": {\n        \"dtype\": \"object\",\n        \"num_unique_values\": 10,\n        \"samples\": [\n          \"2025-04-15 17:41:56+00:00\",\n          \"2025-04-15 17:54:14+00:00\",\n          \"2025-04-15 17:47:34+00:00\"\n        ],\n        \"semantic_type\": \"\",\n        \"description\": \"\"\n      }\n    },\n    {\n      \"column\": \"Tweet ID\",\n      \"properties\": {\n        \"dtype\": \"number\",\n        \"std\": 1468373758268,\n        \"min\": 1912199061236818182,\n        \"max\": 1912203227572941197,\n        \"num_unique_values\": 10,\n        \"samples\": [\n          1912199727313220084,\n          1912202820427882848,\n          1912201143368712216\n        ],\n        \"semantic_type\": \"\",\n        \"description\": \"\"\n      }\n    },\n    {\n      \"column\": \"Tweet Text\",\n      \"properties\": {\n        \"dtype\": \"string\",\n        \"num_unique_values\": 10,\n        \"samples\": [\n          \"@Klowd09 @GovBobFerguson It is outrageous that trump is tying disaster relief funding to his obsession with other people's genitals.\",\n          \"Review also this comment: https://t.co/xoTqyJvrD9\",\n          \"\\\"Our disaster rescue force was in the evening (on the day of earthquake)..\\\", EAM Jaishankar points to India's quick relief to Myanmar; Points. 'our bigger capabilities allows for bigger responsibility'. https://t.co/rMZAYaElxM\"\n        ],\n        \"semantic_type\": \"\",\n        \"description\": \"\"\n      }\n    },\n    {\n      \"column\": \"Cleaned_Text\",\n      \"properties\": {\n        \"dtype\": \"string\",\n        \"num_unique_values\": 9,\n        \"samples\": [\n          \"it is outrageous that trump is tying disaster relief funding to his obsession with other peoples genitals\",\n          \"review also this comment\",\n          \"our disaster rescue force was in the evening on the day of earthquake eam jaishankar points to indias quick relief to myanmar points our bigger capabilities allows for bigger responsibility\"\n        ],\n        \"semantic_type\": \"\",\n        \"description\": \"\"\n      }\n    },\n    {\n      \"column\": \"Sentiment\",\n      \"properties\": {\n        \"dtype\": \"category\",\n        \"num_unique_values\": 3,\n        \"samples\": [\n          \"LABEL_0\",\n          \"LABEL_1\",\n          \"LABEL_2\"\n        ],\n        \"semantic_type\": \"\",\n        \"description\": \"\"\n      }\n    },\n    {\n      \"column\": \"Emotion\",\n      \"properties\": {\n        \"dtype\": \"category\",\n        \"num_unique_values\": 3,\n        \"samples\": [\n          \"joy\",\n          \"anger\",\n          \"sadness\"\n        ],\n        \"semantic_type\": \"\",\n        \"description\": \"\"\n      }\n    }\n  ]\n}"
      }
     },
     "metadata": {},
     "execution_count": 7
    }
   ]
  },
  {
   "cell_type": "code",
   "source": [
    "# prompt: Make a pie chart or bar graph for Sentiment: Positive / Neutral / Negative\n",
    "# Emotion: Joy / Anger / Sadness / etc.\n",
    "\n",
    "import pandas as pd\n",
    "import matplotlib.pyplot as plt\n",
    "import seaborn as sns\n",
    "\n",
    "# Load the analyzed tweets data\n",
    "df = pd.read_csv(\"analyzed_tweets.csv\")\n",
    "\n",
    "# Sentiment Analysis Visualization\n",
    "plt.figure(figsize=(8, 6))\n",
    "sentiment_counts = df['Sentiment'].value_counts()\n",
    "plt.pie(sentiment_counts, labels=sentiment_counts.index, autopct='%1.1f%%', startangle=90)\n",
    "plt.title('Sentiment Distribution of Tweets')\n",
    "plt.show()\n",
    "\n",
    "# Emotion Analysis Visualization\n",
    "plt.figure(figsize=(10, 6))\n",
    "sns.countplot(x='Emotion', data=df)\n",
    "plt.title('Emotion Distribution of Tweets')\n",
    "plt.xlabel('Emotion')\n",
    "plt.ylabel('Number of Tweets')\n",
    "plt.xticks(rotation=45, ha='right')\n",
    "plt.show()\n"
   ],
   "metadata": {
    "colab": {
     "base_uri": "https://localhost:8080/",
     "height": 1000
    },
    "id": "1aBGE7Ognp69",
    "outputId": "78e6e220-ea51-46ae-a364-7216fea3812c"
   },
   "execution_count": null,
   "outputs": [
    {
     "output_type": "display_data",
     "data": {
      "text/plain": [
       "<Figure size 800x600 with 1 Axes>"
      ],
      "image/png": "[encoded data removed]"
     },
     "metadata": {}
    },
    {
     "output_type": "display_data",
     "data": {
      "text/plain": [
       "<Figure size 1000x600 with 1 Axes>"
      ],
      "image/png": "[encoded data removed]"
     },
     "metadata": {}
    }
   ]
  },
  {
   "cell_type": "code",
   "source": [
    "df.info()"
   ],
   "metadata": {
    "colab": {
     "base_uri": "https://localhost:8080/"
    },
    "id": "yUFa92iOghme",
    "outputId": "645f645d-c6e7-4e82-fcb1-bd4ac218fc03"
   },
   "execution_count": null,
   "outputs": [
    {
     "output_type": "stream",
     "name": "stdout",
     "text": [
      "<class 'pandas.core.frame.DataFrame'>\n",
      "RangeIndex: 10 entries, 0 to 9\n",
      "Data columns (total 6 columns):\n",
      " #   Column        Non-Null Count  Dtype \n",
      "---  ------        --------------  ----- \n",
      " 0   Timestamp     10 non-null     object\n",
      " 1   Tweet ID      10 non-null     int64 \n",
      " 2   Tweet Text    10 non-null     object\n",
      " 3   Cleaned_Text  10 non-null     object\n",
      " 4   Sentiment     10 non-null     object\n",
      " 5   Emotion       10 non-null     object\n",
      "dtypes: int64(1), object(5)\n",
      "memory usage: 612.0+ bytes\n"
     ]
    }
   ]
  },
  {
   "cell_type": "markdown",
   "source": [
    "#\ud83d\udd25 Step 4: Urgency Detection using Zero-Shot Classification"
   ],
   "metadata": {
    "id": "VW8ZSMQlgsp8"
   }
  },
  {
   "cell_type": "code",
   "source": [
    "classifier = pipeline(\"zero-shot-classification\", model=\"facebook/bart-large-mnli\")\n"
   ],
   "metadata": {
    "colab": {
     "base_uri": "https://localhost:8080/",
     "height": 281,
     "referenced_widgets": [
      "696198134c644fd3b18d882365eff7b0",
      "a4bb9db0584547f490bb142d1a60c273",
      "2d448ecdb70640d88b09ff5527a349d6",
      "f34f4351371b43bf89d2d2c3ce9d6255",
      "5839f8976dbf476cac1a4a8829b6ed45",
      "b052ff89b66d4f4bb6564b5805675990",
      "36b7c271b0034875be2e455389c03311",
      "d86e08d7144c4af8b0fe8877ab715055",
      "2377ee4117e342c5ae68a11b57cebc1f",
      "775c735b58a6432199716853eb97726e",
      "699e89f8bf6e47dba90af09865c3317f",
      "63ab88d9ee6248db9ed54305f55b18aa",
      "787e2c6d089f4f0c8fc0fc45dcd67ca8",
      "f2797e59475445f2b7175b3abb6a029f",
      "82385db2a5624abc8eee271bb7b4975f",
      "18bbc670915d4718a01f89d514f61a57",
      "90fcd26ec334414783368c82bdf92257",
      "44296f17da114269a638f3c3de7cb4bc",
      "c4c9c7da9a7646ce98d9a83d00ed52c1",
      "e07a0b6da5184681835ba18832dff782",
      "983d8721d8c441de84143d6317f90fe7",
      "a57590a7b8d444509a7e8d1777eeb7b6",
      "d739ba50b132459b9bf13920b748a807",
      "82a4093f80fe4d02a37a57ff25ca125d",
      "39415d64923e484fad33f1dc4368399e",
      "2c7211f45f0b4645b13e89e5e8408e65",
      "83760d3d5ade4014a10d0f31a5c7944b",
      "2b1ee4892e0543348249760bfc6c9c93",
      "54e076f75a2d418c805b65f8086a2429",
      "9c67d4e32fd44022b781abf9f717cdbd",
      "579c8c587ea742d2a60d20e1d240f4ad",
      "1853de19266b4656a9d06bf5db44f8ca",
      "62bf467c96f84ebd91cb9a7404ddcd46",
      "140848d0e2b0471381278b96ca30ab47",
      "b0e072d762164516991d225829291855",
      "d596c6509fee46a3a912b74c69b93fb2",
      "a3a686a8da374c33a73e1b772f16ff8f",
      "1c122fd8b0ad4bbaaf3e25750843872c",
      "7724d8db1f2948c295fc53d87ec4858d",
      "9204e640545644f4841108c8247c5015",
      "321462ed037a41629625abb6716d8ebb",
      "fcff8c6a431f460180332b128151f4b8",
      "1857a9b698734161b870637aa4a8f188",
      "b9224f791e3b4699a1ac488b33f2ab3d",
      "3ab40cb4d9714f0597e7d3e25c04063e",
      "56414bf54f484bd388879d6e396865a5",
      "6eea32196de74613a68a9372cc1b3d14",
      "a0b106635a284c2894f5be59a81995cf",
      "f944f7e8a5de40a5bf8f17eda06b260a",
      "6eecaf3da6c34da49c2c7dddd27cdbc5",
      "20d09df51ef44f0384b518fbc582f651",
      "7d72bc0b065b4d2b8995cb3e2bb42ca8",
      "2e17a532086245aca4b691c037529b9c",
      "81cf39fab857488a98b66af32c906843",
      "28e77d3c7e6a4c5988cc77d82a084703",
      "0d48eee797ec43b1b885597a7596823b",
      "fabf186cf6ba4e26bbd8b4ad5c854cbb",
      "baabb7b2d92f4e708ede9bd990bd0d12",
      "7aba360f1e294c9ab82db2dedc7643d0",
      "8cc96c0fa3744b638108776da81a16a6",
      "9391504948ae4809badd7fbe0e6caa8f",
      "cb7d8933d96243e6a2c7bdfb4f1aefb8",
      "41da0a1a1d8d4d1c8a9cdf14260cab95",
      "8897eabc42cb4e5e878dfafd2d442d9b",
      "a29ab9d65f9546f98978539fa9b6aee2",
      "725a866e7ead4b498bc5b71980b0d1a4"
     ]
    },
    "id": "nh_LEmomgjjO",
    "outputId": "99a779cf-d937-47c3-8771-078081528df0"
   },
   "execution_count": null,
   "outputs": [
    {
     "output_type": "display_data",
     "data": {
      "text/plain": [
       "config.json:   0%|          | 0.00/1.15k [00:00<?, ?B/s]"
      ],
      "application/vnd.jupyter.widget-view+json": {
       "version_major": 2,
       "version_minor": 0,
       "model_id": "696198134c644fd3b18d882365eff7b0"
      }
     },
     "metadata": {}
    },
    {
     "output_type": "stream",
     "name": "stderr",
     "text": [
      "Xet Storage is enabled for this repo, but the 'hf_xet' package is not installed. Falling back to regular HTTP download. For better performance, install the package with: `pip install huggingface_hub[hf_xet]` or `pip install hf_xet`\n",
      "WARNING:huggingface_hub.file_download:Xet Storage is enabled for this repo, but the 'hf_xet' package is not installed. Falling back to regular HTTP download. For better performance, install the package with: `pip install huggingface_hub[hf_xet]` or `pip install hf_xet`\n"
     ]
    },
    {
     "output_type": "display_data",
     "data": {
      "text/plain": [
       "model.safetensors:   0%|          | 0.00/1.63G [00:00<?, ?B/s]"
      ],
      "application/vnd.jupyter.widget-view+json": {
       "version_major": 2,
       "version_minor": 0,
       "model_id": "63ab88d9ee6248db9ed54305f55b18aa"
      }
     },
     "metadata": {}
    },
    {
     "output_type": "display_data",
     "data": {
      "text/plain": [
       "tokenizer_config.json:   0%|          | 0.00/26.0 [00:00<?, ?B/s]"
      ],
      "application/vnd.jupyter.widget-view+json": {
       "version_major": 2,
       "version_minor": 0,
       "model_id": "d739ba50b132459b9bf13920b748a807"
      }
     },
     "metadata": {}
    },
    {
     "output_type": "display_data",
     "data": {
      "text/plain": [
       "vocab.json:   0%|          | 0.00/899k [00:00<?, ?B/s]"
      ],
      "application/vnd.jupyter.widget-view+json": {
       "version_major": 2,
       "version_minor": 0,
       "model_id": "140848d0e2b0471381278b96ca30ab47"
      }
     },
     "metadata": {}
    },
    {
     "output_type": "display_data",
     "data": {
      "text/plain": [
       "merges.txt:   0%|          | 0.00/456k [00:00<?, ?B/s]"
      ],
      "application/vnd.jupyter.widget-view+json": {
       "version_major": 2,
       "version_minor": 0,
       "model_id": "3ab40cb4d9714f0597e7d3e25c04063e"
      }
     },
     "metadata": {}
    },
    {
     "output_type": "display_data",
     "data": {
      "text/plain": [
       "tokenizer.json:   0%|          | 0.00/1.36M [00:00<?, ?B/s]"
      ],
      "application/vnd.jupyter.widget-view+json": {
       "version_major": 2,
       "version_minor": 0,
       "model_id": "0d48eee797ec43b1b885597a7596823b"
      }
     },
     "metadata": {}
    },
    {
     "output_type": "stream",
     "name": "stderr",
     "text": [
      "Device set to use cpu\n"
     ]
    }
   ]
  },
  {
   "cell_type": "code",
   "source": [
    "candidate_labels = [\"urgent\", \"informational\", \"misinformation\", \"irrelevant\"]\n"
   ],
   "metadata": {
    "id": "IYxtZZUBgwY-"
   },
   "execution_count": null,
   "outputs": []
  },
  {
   "cell_type": "code",
   "source": [
    "def classify_urgency(text):\n",
    "    result = classifier(text, candidate_labels)\n",
    "    return result['labels'][0]  # Take top label\n",
    "\n",
    "df[\"Urgency_Label\"] = df[\"Cleaned_Text\"].apply(classify_urgency)\n"
   ],
   "metadata": {
    "id": "sBhkUtl9hI7r"
   },
   "execution_count": null,
   "outputs": []
  },
  {
   "cell_type": "code",
   "source": [
    "df.to_csv(\"final_tweets_classified.csv\", index=False)\n",
    "print(\"Urgency classification complete. Saved to 'final_tweets_classified.csv'\")\n"
   ],
   "metadata": {
    "colab": {
     "base_uri": "https://localhost:8080/"
    },
    "id": "k4kIsSCQhKiS",
    "outputId": "53e4fe34-1944-42f2-c05a-64443bce5bd8"
   },
   "execution_count": null,
   "outputs": [
    {
     "output_type": "stream",
     "name": "stdout",
     "text": [
      "Urgency classification complete. Saved to 'final_tweets_classified.csv'\n"
     ]
    }
   ]
  },
  {
   "cell_type": "code",
   "source": [
    "df = pd.read_csv(\"final_tweets_classified.csv\")\n",
    "df.head()"
   ],
   "metadata": {
    "colab": {
     "base_uri": "https://localhost:8080/",
     "height": 293
    },
    "id": "8cyKR9YEh4oO",
    "outputId": "63a21f0e-c360-433b-d11a-5046152a7e37"
   },
   "execution_count": null,
   "outputs": [
    {
     "output_type": "execute_result",
     "data": {
      "text/plain": [
       "                   Timestamp             Tweet ID  \\\n",
       "0  2025-04-15 17:55:51+00:00  1912203227572941197   \n",
       "1  2025-04-15 17:54:14+00:00  1912202820427882848   \n",
       "2  2025-04-15 17:53:49+00:00  1912202717013090555   \n",
       "3  2025-04-15 17:49:20+00:00  1912201587620970556   \n",
       "4  2025-04-15 17:47:38+00:00  1912201160217542766   \n",
       "\n",
       "                                          Tweet Text  \\\n",
       "0  @GovBraun I am declaring a disaster emergency ...   \n",
       "1  Review also this comment: https://t.co/xoTqyJvrD9   \n",
       "2  The Seattle Times @seattletimes 21h\\nThe Feder...   \n",
       "3  @RapidResponse47 @PressSec No federal funding ...   \n",
       "4  And this is just one reason why NO FEDERAL FUN...   \n",
       "\n",
       "                                        Cleaned_Text Sentiment  Emotion  \\\n",
       "0  i am declaring a disaster emergency for govern...   LABEL_0      joy   \n",
       "1                           review also this comment   LABEL_1    anger   \n",
       "2  the seattle times 21h the federal emergency ma...   LABEL_1    anger   \n",
       "3  no federal funding should be to any university...   LABEL_1  sadness   \n",
       "4  and this is just one reason why no federal fun...   LABEL_0    anger   \n",
       "\n",
       "    Urgency_Label  \n",
       "0          urgent  \n",
       "1   informational  \n",
       "2          urgent  \n",
       "3   informational  \n",
       "4  misinformation  "
      ],
      "text/html": [
       "\n",
       "  <div id=\"df-134fb69a-a190-4e4a-9179-517aba16b556\" class=\"colab-df-container\">\n",
       "    <div>\n",
       "<style scoped>\n",
       "    .dataframe tbody tr th:only-of-type {\n",
       "        vertical-align: middle;\n",
       "    }\n",
       "\n",
       "    .dataframe tbody tr th {\n",
       "        vertical-align: top;\n",
       "    }\n",
       "\n",
       "    .dataframe thead th {\n",
       "        text-align: right;\n",
       "    }\n",
       "</style>\n",
       "<table border=\"1\" class=\"dataframe\">\n",
       "  <thead>\n",
       "    <tr style=\"text-align: right;\">\n",
       "      <th></th>\n",
       "      <th>Timestamp</th>\n",
       "      <th>Tweet ID</th>\n",
       "      <th>Tweet Text</th>\n",
       "      <th>Cleaned_Text</th>\n",
       "      <th>Sentiment</th>\n",
       "      <th>Emotion</th>\n",
       "      <th>Urgency_Label</th>\n",
       "    </tr>\n",
       "  </thead>\n",
       "  <tbody>\n",
       "    <tr>\n",
       "      <th>0</th>\n",
       "      <td>2025-04-15 17:55:51+00:00</td>\n",
       "      <td>1912203227572941197</td>\n",
       "      <td>@GovBraun I am declaring a disaster emergency ...</td>\n",
       "      <td>i am declaring a disaster emergency for govern...</td>\n",
       "      <td>LABEL_0</td>\n",
       "      <td>joy</td>\n",
       "      <td>urgent</td>\n",
       "    </tr>\n",
       "    <tr>\n",
       "      <th>1</th>\n",
       "      <td>2025-04-15 17:54:14+00:00</td>\n",
       "      <td>1912202820427882848</td>\n",
       "      <td>Review also this comment: https://t.co/xoTqyJvrD9</td>\n",
       "      <td>review also this comment</td>\n",
       "      <td>LABEL_1</td>\n",
       "      <td>anger</td>\n",
       "      <td>informational</td>\n",
       "    </tr>\n",
       "    <tr>\n",
       "      <th>2</th>\n",
       "      <td>2025-04-15 17:53:49+00:00</td>\n",
       "      <td>1912202717013090555</td>\n",
       "      <td>The Seattle Times @seattletimes 21h\\nThe Feder...</td>\n",
       "      <td>the seattle times 21h the federal emergency ma...</td>\n",
       "      <td>LABEL_1</td>\n",
       "      <td>anger</td>\n",
       "      <td>urgent</td>\n",
       "    </tr>\n",
       "    <tr>\n",
       "      <th>3</th>\n",
       "      <td>2025-04-15 17:49:20+00:00</td>\n",
       "      <td>1912201587620970556</td>\n",
       "      <td>@RapidResponse47 @PressSec No federal funding ...</td>\n",
       "      <td>no federal funding should be to any university...</td>\n",
       "      <td>LABEL_1</td>\n",
       "      <td>sadness</td>\n",
       "      <td>informational</td>\n",
       "    </tr>\n",
       "    <tr>\n",
       "      <th>4</th>\n",
       "      <td>2025-04-15 17:47:38+00:00</td>\n",
       "      <td>1912201160217542766</td>\n",
       "      <td>And this is just one reason why NO FEDERAL FUN...</td>\n",
       "      <td>and this is just one reason why no federal fun...</td>\n",
       "      <td>LABEL_0</td>\n",
       "      <td>anger</td>\n",
       "      <td>misinformation</td>\n",
       "    </tr>\n",
       "  </tbody>\n",
       "</table>\n",
       "</div>\n",
       "    <div class=\"colab-df-buttons\">\n",
       "\n",
       "  <div class=\"colab-df-container\">\n",
       "    <button class=\"colab-df-convert\" onclick=\"convertToInteractive('df-134fb69a-a190-4e4a-9179-517aba16b556')\"\n",
       "            title=\"Convert this dataframe to an interactive table.\"\n",
       "            style=\"display:none;\">\n",
       "\n",
       "  <svg xmlns=\"http://www.w3.org/2000/svg\" height=\"24px\" viewBox=\"0 -960 960 960\">\n",
       "    <path d=\"M120-120v-720h720v720H120Zm60-500h600v-160H180v160Zm220 220h160v-160H400v160Zm0 220h160v-160H400v160ZM180-400h160v-160H180v160Zm440 0h160v-160H620v160ZM180-180h160v-160H180v160Zm440 0h160v-160H620v160Z\"/>\n",
       "  </svg>\n",
       "    </button>\n",
       "\n",
       "  <style>\n",
       "    .colab-df-container {\n",
       "      display:flex;\n",
       "      gap: 12px;\n",
       "    }\n",
       "\n",
       "    .colab-df-convert {\n",
       "      background-color: #E8F0FE;\n",
       "      border: none;\n",
       "      border-radius: 50%;\n",
       "      cursor: pointer;\n",
       "      display: none;\n",
       "      fill: #1967D2;\n",
       "      height: 32px;\n",
       "      padding: 0 0 0 0;\n",
       "      width: 32px;\n",
       "    }\n",
       "\n",
       "    .colab-df-convert:hover {\n",
       "      background-color: #E2EBFA;\n",
       "      box-shadow: 0px 1px 2px rgba(60, 64, 67, 0.3), 0px 1px 3px 1px rgba(60, 64, 67, 0.15);\n",
       "      fill: #174EA6;\n",
       "    }\n",
       "\n",
       "    .colab-df-buttons div {\n",
       "      margin-bottom: 4px;\n",
       "    }\n",
       "\n",
       "    [theme=dark] .colab-df-convert {\n",
       "      background-color: #3B4455;\n",
       "      fill: #D2E3FC;\n",
       "    }\n",
       "\n",
       "    [theme=dark] .colab-df-convert:hover {\n",
       "      background-color: #434B5C;\n",
       "      box-shadow: 0px 1px 3px 1px rgba(0, 0, 0, 0.15);\n",
       "      filter: drop-shadow(0px 1px 2px rgba(0, 0, 0, 0.3));\n",
       "      fill: #FFFFFF;\n",
       "    }\n",
       "  </style>\n",
       "\n",
       "    <script>\n",
       "      const buttonEl =\n",
       "        document.querySelector('#df-134fb69a-a190-4e4a-9179-517aba16b556 button.colab-df-convert');\n",
       "      buttonEl.style.display =\n",
       "        google.colab.kernel.accessAllowed ? 'block' : 'none';\n",
       "\n",
       "      async function convertToInteractive(key) {\n",
       "        const element = document.querySelector('#df-134fb69a-a190-4e4a-9179-517aba16b556');\n",
       "        const dataTable =\n",
       "          await google.colab.kernel.invokeFunction('convertToInteractive',\n",
       "                                                    [key], {});\n",
       "        if (!dataTable) return;\n",
       "\n",
       "        const docLinkHtml = 'Like what you see? Visit the ' +\n",
       "          '<a target=\"_blank\" href=https://colab.research.google.com/notebooks/data_table.ipynb>data table notebook</a>'\n",
       "          + ' to learn more about interactive tables.';\n",
       "        element.innerHTML = '';\n",
       "        dataTable['output_type'] = 'display_data';\n",
       "        await google.colab.output.renderOutput(dataTable, element);\n",
       "        const docLink = document.createElement('div');\n",
       "        docLink.innerHTML = docLinkHtml;\n",
       "        element.appendChild(docLink);\n",
       "      }\n",
       "    </script>\n",
       "  </div>\n",
       "\n",
       "\n",
       "<div id=\"df-65b2b063-c06c-4df5-a98a-58411fc5b694\">\n",
       "  <button class=\"colab-df-quickchart\" onclick=\"quickchart('df-65b2b063-c06c-4df5-a98a-58411fc5b694')\"\n",
       "            title=\"Suggest charts\"\n",
       "            style=\"display:none;\">\n",
       "\n",
       "<svg xmlns=\"http://www.w3.org/2000/svg\" height=\"24px\"viewBox=\"0 0 24 24\"\n",
       "     width=\"24px\">\n",
       "    <g>\n",
       "        <path d=\"M19 3H5c-1.1 0-2 .9-2 2v14c0 1.1.9 2 2 2h14c1.1 0 2-.9 2-2V5c0-1.1-.9-2-2-2zM9 17H7v-7h2v7zm4 0h-2V7h2v10zm4 0h-2v-4h2v4z\"/>\n",
       "    </g>\n",
       "</svg>\n",
       "  </button>\n",
       "\n",
       "<style>\n",
       "  .colab-df-quickchart {\n",
       "      --bg-color: #E8F0FE;\n",
       "      --fill-color: #1967D2;\n",
       "      --hover-bg-color: #E2EBFA;\n",
       "      --hover-fill-color: #174EA6;\n",
       "      --disabled-fill-color: #AAA;\n",
       "      --disabled-bg-color: #DDD;\n",
       "  }\n",
       "\n",
       "  [theme=dark] .colab-df-quickchart {\n",
       "      --bg-color: #3B4455;\n",
       "      --fill-color: #D2E3FC;\n",
       "      --hover-bg-color: #434B5C;\n",
       "      --hover-fill-color: #FFFFFF;\n",
       "      --disabled-bg-color: #3B4455;\n",
       "      --disabled-fill-color: #666;\n",
       "  }\n",
       "\n",
       "  .colab-df-quickchart {\n",
       "    background-color: var(--bg-color);\n",
       "    border: none;\n",
       "    border-radius: 50%;\n",
       "    cursor: pointer;\n",
       "    display: none;\n",
       "    fill: var(--fill-color);\n",
       "    height: 32px;\n",
       "    padding: 0;\n",
       "    width: 32px;\n",
       "  }\n",
       "\n",
       "  .colab-df-quickchart:hover {\n",
       "    background-color: var(--hover-bg-color);\n",
       "    box-shadow: 0 1px 2px rgba(60, 64, 67, 0.3), 0 1px 3px 1px rgba(60, 64, 67, 0.15);\n",
       "    fill: var(--button-hover-fill-color);\n",
       "  }\n",
       "\n",
       "  .colab-df-quickchart-complete:disabled,\n",
       "  .colab-df-quickchart-complete:disabled:hover {\n",
       "    background-color: var(--disabled-bg-color);\n",
       "    fill: var(--disabled-fill-color);\n",
       "    box-shadow: none;\n",
       "  }\n",
       "\n",
       "  .colab-df-spinner {\n",
       "    border: 2px solid var(--fill-color);\n",
       "    border-color: transparent;\n",
       "    border-bottom-color: var(--fill-color);\n",
       "    animation:\n",
       "      spin 1s steps(1) infinite;\n",
       "  }\n",
       "\n",
       "  @keyframes spin {\n",
       "    0% {\n",
       "      border-color: transparent;\n",
       "      border-bottom-color: var(--fill-color);\n",
       "      border-left-color: var(--fill-color);\n",
       "    }\n",
       "    20% {\n",
       "      border-color: transparent;\n",
       "      border-left-color: var(--fill-color);\n",
       "      border-top-color: var(--fill-color);\n",
       "    }\n",
       "    30% {\n",
       "      border-color: transparent;\n",
       "      border-left-color: var(--fill-color);\n",
       "      border-top-color: var(--fill-color);\n",
       "      border-right-color: var(--fill-color);\n",
       "    }\n",
       "    40% {\n",
       "      border-color: transparent;\n",
       "      border-right-color: var(--fill-color);\n",
       "      border-top-color: var(--fill-color);\n",
       "    }\n",
       "    60% {\n",
       "      border-color: transparent;\n",
       "      border-right-color: var(--fill-color);\n",
       "    }\n",
       "    80% {\n",
       "      border-color: transparent;\n",
       "      border-right-color: var(--fill-color);\n",
       "      border-bottom-color: var(--fill-color);\n",
       "    }\n",
       "    90% {\n",
       "      border-color: transparent;\n",
       "      border-bottom-color: var(--fill-color);\n",
       "    }\n",
       "  }\n",
       "</style>\n",
       "\n",
       "  <script>\n",
       "    async function quickchart(key) {\n",
       "      const quickchartButtonEl =\n",
       "        document.querySelector('#' + key + ' button');\n",
       "      quickchartButtonEl.disabled = true;  // To prevent multiple clicks.\n",
       "      quickchartButtonEl.classList.add('colab-df-spinner');\n",
       "      try {\n",
       "        const charts = await google.colab.kernel.invokeFunction(\n",
       "            'suggestCharts', [key], {});\n",
       "      } catch (error) {\n",
       "        console.error('Error during call to suggestCharts:', error);\n",
       "      }\n",
       "      quickchartButtonEl.classList.remove('colab-df-spinner');\n",
       "      quickchartButtonEl.classList.add('colab-df-quickchart-complete');\n",
       "    }\n",
       "    (() => {\n",
       "      let quickchartButtonEl =\n",
       "        document.querySelector('#df-65b2b063-c06c-4df5-a98a-58411fc5b694 button');\n",
       "      quickchartButtonEl.style.display =\n",
       "        google.colab.kernel.accessAllowed ? 'block' : 'none';\n",
       "    })();\n",
       "  </script>\n",
       "</div>\n",
       "\n",
       "    </div>\n",
       "  </div>\n"
      ],
      "application/vnd.google.colaboratory.intrinsic+json": {
       "type": "dataframe",
       "variable_name": "df",
       "summary": "{\n  \"name\": \"df\",\n  \"rows\": 10,\n  \"fields\": [\n    {\n      \"column\": \"Timestamp\",\n      \"properties\": {\n        \"dtype\": \"object\",\n        \"num_unique_values\": 10,\n        \"samples\": [\n          \"2025-04-15 17:41:56+00:00\",\n          \"2025-04-15 17:54:14+00:00\",\n          \"2025-04-15 17:47:34+00:00\"\n        ],\n        \"semantic_type\": \"\",\n        \"description\": \"\"\n      }\n    },\n    {\n      \"column\": \"Tweet ID\",\n      \"properties\": {\n        \"dtype\": \"number\",\n        \"std\": 1468373758268,\n        \"min\": 1912199061236818182,\n        \"max\": 1912203227572941197,\n        \"num_unique_values\": 10,\n        \"samples\": [\n          1912199727313220084,\n          1912202820427882848,\n          1912201143368712216\n        ],\n        \"semantic_type\": \"\",\n        \"description\": \"\"\n      }\n    },\n    {\n      \"column\": \"Tweet Text\",\n      \"properties\": {\n        \"dtype\": \"string\",\n        \"num_unique_values\": 10,\n        \"samples\": [\n          \"@Klowd09 @GovBobFerguson It is outrageous that trump is tying disaster relief funding to his obsession with other people's genitals.\",\n          \"Review also this comment: https://t.co/xoTqyJvrD9\",\n          \"\\\"Our disaster rescue force was in the evening (on the day of earthquake)..\\\", EAM Jaishankar points to India's quick relief to Myanmar; Points. 'our bigger capabilities allows for bigger responsibility'. https://t.co/rMZAYaElxM\"\n        ],\n        \"semantic_type\": \"\",\n        \"description\": \"\"\n      }\n    },\n    {\n      \"column\": \"Cleaned_Text\",\n      \"properties\": {\n        \"dtype\": \"string\",\n        \"num_unique_values\": 9,\n        \"samples\": [\n          \"it is outrageous that trump is tying disaster relief funding to his obsession with other peoples genitals\",\n          \"review also this comment\",\n          \"our disaster rescue force was in the evening on the day of earthquake eam jaishankar points to indias quick relief to myanmar points our bigger capabilities allows for bigger responsibility\"\n        ],\n        \"semantic_type\": \"\",\n        \"description\": \"\"\n      }\n    },\n    {\n      \"column\": \"Sentiment\",\n      \"properties\": {\n        \"dtype\": \"category\",\n        \"num_unique_values\": 3,\n        \"samples\": [\n          \"LABEL_0\",\n          \"LABEL_1\",\n          \"LABEL_2\"\n        ],\n        \"semantic_type\": \"\",\n        \"description\": \"\"\n      }\n    },\n    {\n      \"column\": \"Emotion\",\n      \"properties\": {\n        \"dtype\": \"category\",\n        \"num_unique_values\": 3,\n        \"samples\": [\n          \"joy\",\n          \"anger\",\n          \"sadness\"\n        ],\n        \"semantic_type\": \"\",\n        \"description\": \"\"\n      }\n    },\n    {\n      \"column\": \"Urgency_Label\",\n      \"properties\": {\n        \"dtype\": \"category\",\n        \"num_unique_values\": 3,\n        \"samples\": [\n          \"urgent\",\n          \"informational\",\n          \"misinformation\"\n        ],\n        \"semantic_type\": \"\",\n        \"description\": \"\"\n      }\n    }\n  ]\n}"
      }
     },
     "metadata": {},
     "execution_count": 14
    }
   ]
  },
  {
   "cell_type": "code",
   "source": [
    "%%writefile app.py\n",
    "import streamlit as st\n",
    "import pandas as pd\n",
    "\n",
    "st.set_page_config(layout=\"wide\")\n",
    "st.title(\"\ud83c\udf0d Real-Time Disaster Tweet Monitoring Dashboard\")\n",
    "\n",
    "@st.cache_data(ttl=60)\n",
    "def load_data():\n",
    "    df = pd.read_csv(\"final_tweets_classified.csv\")\n",
    "    return df\n",
    "\n",
    "df = load_data()\n",
    "\n",
    "col1, col2 = st.columns(2)\n",
    "\n",
    "with col1:\n",
    "    st.subheader(\"\ud83d\udcc8 Sentiment Distribution\")\n",
    "    sentiment_count = df['Sentiment'].value_counts()\n",
    "    st.bar_chart(sentiment_count)\n",
    "\n",
    "with col2:\n",
    "    st.subheader(\"\ud83d\ude36 Emotion Distribution\")\n",
    "    emotion_count = df['Emotion'].value_counts()\n",
    "    st.bar_chart(emotion_count)\n",
    "\n",
    "st.subheader(\"\ud83d\udea8 Urgency Classification\")\n",
    "urgency_count = df['Urgency_Label'].value_counts()\n",
    "st.bar_chart(urgency_count)\n",
    "\n",
    "st.subheader(\"\ud83d\udd0d Sample Classified Tweets\")\n",
    "st.dataframe(df[['Tweet Text', 'Sentiment', 'Emotion', 'Urgency_Label']].head(10))\n"
   ],
   "metadata": {
    "colab": {
     "base_uri": "https://localhost:8080/"
    },
    "id": "XM9tN13eihDh",
    "outputId": "fdc270f1-41de-4f49-b85c-dd995616fe4a"
   },
   "execution_count": null,
   "outputs": [
    {
     "output_type": "stream",
     "name": "stdout",
     "text": [
      "Writing app.py\n"
     ]
    }
   ]
  },
  {
   "cell_type": "code",
   "source": [
    "!ngrok config add-authtoken 2vg6TKE6mK8PjXNKLTreD8Gax3t_3zyEMYGmKnmFJnrSNyhkG\n"
   ],
   "metadata": {
    "colab": {
     "base_uri": "https://localhost:8080/"
    },
    "id": "d4NJdxBfjCF1",
    "outputId": "addf97ee-22b7-4530-e188-121e8afd4901"
   },
   "execution_count": null,
   "outputs": [
    {
     "output_type": "stream",
     "name": "stdout",
     "text": [
      "/bin/bash: line 1: ngrok: command not found\n"
     ]
    }
   ]
  },
  {
   "cell_type": "code",
   "source": [
    "from pyngrok import ngrok\n",
    "import threading\n",
    "import time\n",
    "\n",
    "# Start the Streamlit app in a separate thread\n",
    "def run():\n",
    "    !streamlit run app.py &> logs.txt\n",
    "\n",
    "thread = threading.Thread(target=run)\n",
    "thread.start()\n",
    "time.sleep(5)  # Wait for streamlit to spin up\n",
    "\n",
    "# Open the public URL using ngrok\n",
    "url = ngrok.connect(8501)\n",
    "print(\"Streamlit app is live at:\", url)\n"
   ],
   "metadata": {
    "colab": {
     "base_uri": "https://localhost:8080/",
     "height": 384
    },
    "id": "zb-b-OY4ikAE",
    "outputId": "b93eda90-240b-4b8b-91ed-b0316b37a206"
   },
   "execution_count": null,
   "outputs": [
    {
     "output_type": "error",
     "ename": "ModuleNotFoundError",
     "evalue": "No module named 'pyngrok'",
     "traceback": [
      "\u001b[0;31m---------------------------------------------------------------------------\u001b[0m",
      "\u001b[0;31mModuleNotFoundError\u001b[0m                       Traceback (most recent call last)",
      "\u001b[0;32m<ipython-input-18-d3e18b8f499a>\u001b[0m in \u001b[0;36m<cell line: 0>\u001b[0;34m()\u001b[0m\n\u001b[0;32m----> 1\u001b[0;31m \u001b[0;32mfrom\u001b[0m \u001b[0mpyngrok\u001b[0m \u001b[0;32mimport\u001b[0m \u001b[0mngrok\u001b[0m\u001b[0;34m\u001b[0m\u001b[0;34m\u001b[0m\u001b[0m\n\u001b[0m\u001b[1;32m      2\u001b[0m \u001b[0;32mimport\u001b[0m \u001b[0mthreading\u001b[0m\u001b[0;34m\u001b[0m\u001b[0;34m\u001b[0m\u001b[0m\n\u001b[1;32m      3\u001b[0m \u001b[0;32mimport\u001b[0m \u001b[0mtime\u001b[0m\u001b[0;34m\u001b[0m\u001b[0;34m\u001b[0m\u001b[0m\n\u001b[1;32m      4\u001b[0m \u001b[0;34m\u001b[0m\u001b[0m\n\u001b[1;32m      5\u001b[0m \u001b[0;31m# Start the Streamlit app in a separate thread\u001b[0m\u001b[0;34m\u001b[0m\u001b[0;34m\u001b[0m\u001b[0m\n",
      "\u001b[0;31mModuleNotFoundError\u001b[0m: No module named 'pyngrok'",
      "",
      "\u001b[0;31m---------------------------------------------------------------------------\u001b[0;32m\nNOTE: If your import is failing due to a missing package, you can\nmanually install dependencies using either !pip or !apt.\n\nTo view examples of installing some common dependencies, click the\n\"Open Examples\" button below.\n\u001b[0;31m---------------------------------------------------------------------------\u001b[0m\n"
     ],
     "errorDetails": {
      "actions": [
       {
        "action": "open_url",
        "actionText": "Open Examples",
        "url": "/notebooks/snippets/importing_libraries.ipynb"
       }
      ]
     }
    }
   ]
  },
  {
   "cell_type": "markdown",
   "source": [
    "Validation steps for:\n",
    "\n",
    "Sentiment\n",
    "\n",
    "Emotion\n",
    "\n",
    "Urgency"
   ],
   "metadata": {
    "id": "8Vu0_cK98KA1"
   }
  },
  {
   "cell_type": "code",
   "source": [
    "\n",
    "manual_labels = {\n",
    "    1911415120518848659: ('LABEL_1', 'joy', 'informational'),    # Positive, hopeful relief, sharing info\n",
    "    1911414915434237964: ('LABEL_1', 'joy', 'urgent'),           # Positive, hopeful relief, urgent tone\n",
    "    1911414810266292620: ('LABEL_0', 'anger', 'informational'),  # Negative, denied relief, sharing news\n",
    "    1911414690908864816: ('LABEL_1', 'joy', 'urgent'),           # Positive, hopeful relief, urgent tone\n",
    "    1911414444631957835: ('LABEL_1', 'joy', 'informational'),    # Positive, hopeful relief, sharing info\n",
    "    1911413975780110636: ('LABEL_1', 'joy', 'informational'),    # Positive, factual about FEMA, neutral joy\n",
    "    1911413867676106767: ('LABEL_0', 'anger', 'informational'),  # Negative, angry accusations\n",
    "    1911413830522974485: ('LABEL_1', 'joy', 'informational'),    # Positive, hopeful relief\n",
    "    1911413443917132003: ('LABEL_0', 'anger', 'informational'),  # Negative, angry about ignored message\n",
    "    1911413217152106578: ('LABEL_1', 'joy', 'informational'),    # Positive, hopeful relief\n",
    "    1911451307468357738: ('LABEL_1', 'joy', 'informational'),    # Positive, proud of RSS efforts\n",
    "    1911450778855735502: ('LABEL_0', 'anger', 'informational'),  # Negative, defensive and critical\n",
    "    1911447273680085474: ('LABEL_0', 'anger', 'informational'),  # Negative, confrontational challenge\n",
    "    1911446655120867634: ('LABEL_0', 'sadness', 'informational'),# Negative, clarifying relief source\n",
    "    1911446202777747564: ('LABEL_1', 'joy', 'informational'),    # Positive, optimistic about AI\n",
    "    1911445185487155410: ('LABEL_0', 'anger', 'urgent'),         # Negative, mocking denial of relief\n",
    "    1911444903516602879: ('LABEL_0', 'sadness', 'urgent'),       # Negative, personal distress\n",
    "    1911444543569871294: ('LABEL_1', 'joy', 'informational'),    # Positive, questioning funds positively\n",
    "    1911440425430167745: ('LABEL_0', 'anger', 'informational'),  # Negative, critical of denial\n",
    "    1911456421117374810: ('LABEL_0', 'anger', 'urgent'),         # Negative, urgent about denied relief\n",
    "    1911456400179339717: ('LABEL_0', 'anger', 'informational'),  # Negative, critical of policy\n",
    "    1911455280879055353: ('LABEL_0', 'anger', 'informational'),  # Negative, critical of policy\n",
    "    1911455124423160248: ('LABEL_0', 'anger', 'informational'),  # Negative, correcting misconception\n",
    "    1911454606279815383: ('LABEL_0', 'anger', 'informational'),  # Negative, critical of policy\n",
    "    1911454368395591853: ('LABEL_0', 'anger', 'informational'),  # Negative, debunking conspiracy\n",
    "    1911461133183000651: ('LABEL_0', 'sadness', 'urgent'),       # Negative, urgent tech failure\n",
    "    1911460770510229767: ('LABEL_0', 'anger', 'informational'),  # Negative, angry defense\n",
    "    1911460523549286636: ('LABEL_0', 'anger', 'informational'),  # Negative, sarcastic critique\n",
    "    1911466915693764938: ('LABEL_1', 'sadness', 'urgent'),       # Positive, offering relief, sad context\n",
    "    1911466234723311800: ('LABEL_0', 'anger', 'misinformation'), # Negative, angry conspiracy\n",
    "    1911466014547603960: ('LABEL_0', 'sadness', 'informational'),# Negative, observational, neutral sadness\n",
    "    1911465530445451376: ('LABEL_0', 'anger', 'informational'),  # Negative, critical of unit\n",
    "    1911465460383523115: ('LABEL_0', 'anger', 'informational'),  # Negative, critical of inaction\n",
    "    1911465161883267478: ('LABEL_0', 'anger', 'informational'),  # Negative, critical priorities\n",
    "    1911465144770760866: ('LABEL_1', 'joy', 'informational'),    # Positive, listing welfare services\n",
    "    1911464640824893520: ('LABEL_1', 'sadness', 'urgent'),       # Positive, urgent call to help, sad context\n",
    "    1911462675898589404: ('LABEL_1', 'joy', 'informational'),    # Positive, clarifying FEMA policy\n",
    "    1911462540728586708: ('LABEL_0', 'sadness', 'informational'),# Negative, questioning relevance\n",
    "}\n",
    "\n",
    "df[\"True_Sentiment\"] = df[\"Tweet ID\"].map(lambda x: manual_labels.get(x, (None, None, None))[0])\n",
    "df[\"True_Emotion\"] = df[\"Tweet ID\"].map(lambda x: manual_labels.get(x, (None, None, None))[1])\n",
    "df[\"True_Urgency_Label\"] = df[\"Tweet ID\"].map(lambda x: manual_labels.get(x, (None, None, None))[2])\n",
    "\n",
    "df_eval = df.dropna(subset=[\"True_Sentiment\", \"True_Emotion\", \"True_Urgency_Label\"])\n",
    "\n",
    "df_eval[[\"Tweet ID\", \"Sentiment\", \"True_Sentiment\", \"Emotion\", \"True_Emotion\", \"Urgency_Label\", \"True_Urgency_Label\"]].head()\n"
   ],
   "metadata": {
    "id": "fLYtz4-D5UQf"
   },
   "execution_count": null,
   "outputs": []
  },
  {
   "cell_type": "code",
   "source": [
    "from sklearn.metrics import confusion_matrix, ConfusionMatrixDisplay\n",
    "import matplotlib.pyplot as plt\n",
    "import seaborn as sns\n",
    "import pandas as pd\n",
    "\n",
    "def plot_confusion_matrix(y_true, y_pred, labels, title):\n",
    "    cm = confusion_matrix(y_true, y_pred, labels=labels)\n",
    "    plt.figure(figsize=(6, 5))\n",
    "    sns.heatmap(cm, annot=True, fmt='d', cmap='Blues', xticklabels=labels, yticklabels=labels)\n",
    "    plt.title(f'Confusion Matrix: {title}')\n",
    "    plt.xlabel('Predicted')\n",
    "    plt.ylabel('True')\n",
    "    plt.tight_layout()\n",
    "    plt.show()\n",
    "\n",
    "plot_confusion_matrix(\n",
    "    df_eval[\"True_Sentiment\"],\n",
    "    df_eval[\"Sentiment\"],\n",
    "    labels=[\"LABEL_0\", \"LABEL_1\"],\n",
    "    title=\"Sentiment\"\n",
    ")\n",
    "\n",
    "emotion_labels = sorted(df_eval[\"True_Emotion\"].dropna().unique().tolist())\n",
    "plot_confusion_matrix(\n",
    "    df_eval[\"True_Emotion\"],\n",
    "    df_eval[\"Emotion\"],\n",
    "    labels=emotion_labels,\n",
    "    title=\"Emotion\"\n",
    ")\n",
    "\n",
    "urgency_labels = sorted(df_eval[\"True_Urgency_Label\"].dropna().unique().tolist())\n",
    "plot_confusion_matrix(\n",
    "    df_eval[\"True_Urgency_Label\"],\n",
    "    df_eval[\"Urgency_Label\"],\n",
    "    labels=urgency_labels,\n",
    "    title=\"Urgency Label\"\n",
    ")\n"
   ],
   "metadata": {
    "id": "piTgzBMiR-I-"
   },
   "execution_count": null,
   "outputs": []
  },
  {
   "cell_type": "code",
   "source": [
    "!pip install flask-ngrok transformers\n"
   ],
   "metadata": {
    "id": "QGJ-lkT9dKib"
   },
   "execution_count": null,
   "outputs": []
  },
  {
   "cell_type": "code",
   "source": [
    "# Replace YOUR_AUTHTOKEN below with your own ngrok token\n",
    "!./ngrok authtoken 2vinwMFJRzrJWrtM1aIFker41Qo_3poE11V7v2SBtPQnv9nym\n"
   ],
   "metadata": {
    "colab": {
     "base_uri": "https://localhost:8080/"
    },
    "id": "H_A95xYHdzql",
    "outputId": "6544bcd8-f7c2-4e40-fdcc-887aac4f5bbc"
   },
   "execution_count": null,
   "outputs": [
    {
     "output_type": "stream",
     "name": "stdout",
     "text": [
      "Authtoken saved to configuration file: /root/.config/ngrok/ngrok.yml\n"
     ]
    }
   ]
  },
  {
   "cell_type": "code",
   "source": [
    "from flask import Flask, request, jsonify\n",
    "from threading import Thread\n",
    "from transformers import pipeline\n",
    "\n",
    "app = Flask(__name__)\n",
    "\n",
    "# Load model\n",
    "classifier = pipeline(\"zero-shot-classification\", model=\"facebook/bart-large-mnli\")\n",
    "categories = [\"Distress\", \"Informational\", \"Misinformation\"]\n",
    "\n",
    "@app.route('/')\n",
    "def home():\n",
    "    return \"Tweet Classifier API is live!\"\n",
    "\n",
    "@app.route('/classify', methods=['POST'])\n",
    "def classify():\n",
    "    data = request.get_json()\n",
    "    tweet = data.get(\"text\")\n",
    "\n",
    "    if not tweet:\n",
    "        return jsonify({\"error\": \"No tweet text provided\"}), 400\n",
    "\n",
    "    result = classifier(tweet, categories)\n",
    "    return jsonify({\n",
    "        \"label\": result[\"labels\"][0],\n",
    "        \"confidence\": round(result[\"scores\"][0], 3)\n",
    "    })\n",
    "\n",
    "def run():\n",
    "    app.run(host='0.0.0.0', port=5000)\n",
    "\n",
    "# Start Flask in background thread\n",
    "Thread(target=run).start()\n"
   ],
   "metadata": {
    "colab": {
     "base_uri": "https://localhost:8080/"
    },
    "id": "WDGC48YYdGQu",
    "outputId": "0a775a79-15ca-4b8b-feb3-f7a6b616b4a9"
   },
   "execution_count": null,
   "outputs": [
    {
     "output_type": "stream",
     "name": "stderr",
     "text": [
      "Device set to use cpu\n"
     ]
    },
    {
     "output_type": "stream",
     "name": "stdout",
     "text": [
      " * Serving Flask app '__main__'\n",
      " * Debug mode: off\n"
     ]
    },
    {
     "output_type": "stream",
     "name": "stderr",
     "text": [
      "INFO:werkzeug:\u001b[31m\u001b[1mWARNING: This is a development server. Do not use it in a production deployment. Use a production WSGI server instead.\u001b[0m\n",
      " * Running on all addresses (0.0.0.0)\n",
      " * Running on http://127.0.0.1:5000\n",
      " * Running on http://172.28.0.12:5000\n"
     ]
    }
   ]
  },
  {
   "cell_type": "code",
   "source": [
    "!pip install pyngrok"
   ],
   "metadata": {
    "colab": {
     "base_uri": "https://localhost:8080/"
    },
    "id": "N_BZQ1IWe4Zk",
    "outputId": "21105141-bcee-4fbc-9ef4-ff044e3ed16d"
   },
   "execution_count": null,
   "outputs": [
    {
     "output_type": "stream",
     "name": "stdout",
     "text": [
      "Collecting pyngrok\n",
      "  Downloading pyngrok-7.2.3-py3-none-any.whl.metadata (8.7 kB)\n",
      "Requirement already satisfied: PyYAML>=5.1 in /usr/local/lib/python3.11/dist-packages (from pyngrok) (6.0.2)\n",
      "Downloading pyngrok-7.2.3-py3-none-any.whl (23 kB)\n",
      "Installing collected packages: pyngrok\n",
      "Successfully installed pyngrok-7.2.3\n"
     ]
    }
   ]
  },
  {
   "cell_type": "code",
   "source": [
    "import os\n",
    "import time\n",
    "from pyngrok import ngrok\n",
    "\n",
    "# Start ngrok tunnel\n",
    "public_url = ngrok.connect(5000)\n",
    "print(\"\ud83d\ude80 Public URL:\", public_url)\n"
   ],
   "metadata": {
    "colab": {
     "base_uri": "https://localhost:8080/"
    },
    "id": "KYToKzw2eUvU",
    "outputId": "6eae710a-ec3f-4764-a3ed-c5187c709335"
   },
   "execution_count": null,
   "outputs": [
    {
     "output_type": "stream",
     "name": "stdout",
     "text": [
      "\ud83d\ude80 Public URL: NgrokTunnel: \"https://e45e-34-150-215-250.ngrok-free.app\" -> \"http://localhost:5000\"\n"
     ]
    }
   ]
  },
  {
   "cell_type": "code",
   "source": [
    "from transformers import AutoTokenizer, AutoModelForSequenceClassification\n",
    "\n",
    "model_name = \"facebook/bart-large-mnli\"\n",
    "tokenizer = AutoTokenizer.from_pretrained(model_name)\n",
    "model = AutoModelForSequenceClassification.from_pretrained(model_name)\n",
    "\n",
    "tokenizer.save_pretrained(\"my_model\")\n",
    "model.save_pretrained(\"my_model\")\n"
   ],
   "metadata": {
    "id": "vjphopm-oKgu",
    "colab": {
     "base_uri": "https://localhost:8080/",
     "height": 375,
     "referenced_widgets": [
      "3e219ef6f6d54ac1bb2bc15103d406c4",
      "7c208cc1f0cc412fbda4fc9a756ac25f",
      "cc8fa242e7a54bd3ad7dc8659a7d65af",
      "2fa68b1df93141e9936732644047dbe7",
      "42ddfccff68c4c7f8aec3fb2943bbb9a",
      "9488569926db4e9db8c5ae01cd72657c",
      "5623c3aa884c4cc6acba531d093f38dc",
      "8be5b5699e664e8c821a13e0de413dca",
      "1e96a348e8b44500994f73454ccba9cc",
      "27b3cbe21af0461eb240a3b437a1142a",
      "f45dc6056b7c495a987ef3fc01cd3497",
      "89697adf0b494b8dbe6fdabb335dc240",
      "3133a5e43cee4c0d87ed596788b84a04",
      "e9e5c0a40451412ab2be3a5a89b444f6",
      "5148fedf679b43ea9eb6b9ef0b7d59be",
      "f4340ce657ea46a0baf5934ff35f2ffa",
      "c29597556ce641d3a9d8ffcc844b671e",
      "636e9d832fca4c6cb5c22226927a83cf",
      "12987d69ad79492ebc2b38fbb14d6f5b",
      "33979396d59d43d0af66e52d9efecb45",
      "422639327cf845049e9c780d3851d1cc",
      "813086f1d2d4412891ee0cf2ad107a2d",
      "bd8f9c2aaa7341298f24f27164501d60",
      "ecde81fff55d4299a48b0b0eb1da7933",
      "d79071ae960047119d8792b2e4456161",
      "916de41159d940fd975848f2b799f233",
      "19442f7c936e450db84f7ffd4a90b321",
      "28d5a0ee765b4efa98a26bd9353e26b6",
      "f0af1487762049f6866477e17892bc5c",
      "72fe994a3d2340ef80c18940950a1153",
      "46c93b098bfb43fbb68430c4a14df122",
      "2a2a7de91ea349ee830e41b70789fecc",
      "98d98739e8d34f38abb1ea8d3410280d",
      "bfde2ab9c14b409baa7ec6f3f36738f0",
      "1d5e37a51e34402f9c43d6b6b9f7301d",
      "feeec9b0aa4b4faaaab12290d598214f",
      "bee0c75767f64f1c8be21fd22e43db1a",
      "7caef86663e4403cb98d3256965db2bd",
      "fca737c400c942deb7fcc1e73a617774",
      "de3abc231088418ea202eaa05da8d747",
      "dfd237879e5b4d53b09ecab3440975b5",
      "5d1ce72fe770410298b3f848b74c29d1",
      "99c0d125a2ff41a29247314fade75092",
      "9c3e296000d344edaa4ae4c79f80fc28",
      "b385cc3245bf4fc89ef5bd63704c3730",
      "3ccbd09151b44a0ba1ce9dc7ccd3b3ed",
      "7b06eadb9fd849e6ba48ea9ed0ee7c9a",
      "da538bc78899421bb4c38f1f692910de",
      "6d596a2f51124010837abf4428317d03",
      "54ac369f8e0246b189555a8b651fa536",
      "82ab4442a2d64ab8b5e317e6cd4aca8b",
      "af55d7982c6e4dc38e9505ce9e3938f1",
      "939941d812f8468da0e4979e54b8ce9f",
      "d30c142559514ab3936980143095d743",
      "ab40aa938b764a7d92573ae7c410b34a",
      "59ce2024183f4d4499754d3ab7d8539d",
      "282ed3a421034d4f816dfb8777650126",
      "77e90acd5ad14a4cbe38f0b1ba09f6dc",
      "5b99e9cd30a349d7bb0e3138595d8e44",
      "2ecd1fd32f494a37bd13502b5cf8e9dd",
      "6fc1335e43eb48228124247c51fbde1f",
      "62550576ffdb4442a3589428e93f9887",
      "f61d317d85d04446abc6468cf1c40f14",
      "111661e2b913494597ecbc5179f13eb2",
      "8330207c1ea94b5e8fe1e382b5c674fe",
      "7e3f9a431a4a4f2a99db66cc089d4b85"
     ]
    },
    "outputId": "e0ecb27b-0738-4be0-821d-7f46de449b03"
   },
   "execution_count": null,
   "outputs": [
    {
     "output_type": "stream",
     "name": "stderr",
     "text": [
      "/usr/local/lib/python3.11/dist-packages/huggingface_hub/utils/_auth.py:94: UserWarning: \n",
      "The secret `HF_TOKEN` does not exist in your Colab secrets.\n",
      "To authenticate with the Hugging Face Hub, create a token in your settings tab (https://huggingface.co/settings/tokens), set it as secret in your Google Colab and restart your session.\n",
      "You will be able to reuse this secret in all of your notebooks.\n",
      "Please note that authentication is recommended but still optional to access public models or datasets.\n",
      "  warnings.warn(\n"
     ]
    },
    {
     "output_type": "display_data",
     "data": {
      "text/plain": [
       "tokenizer_config.json:   0%|          | 0.00/26.0 [00:00<?, ?B/s]"
      ],
      "application/vnd.jupyter.widget-view+json": {
       "version_major": 2,
       "version_minor": 0,
       "model_id": "3e219ef6f6d54ac1bb2bc15103d406c4"
      }
     },
     "metadata": {}
    },
    {
     "output_type": "display_data",
     "data": {
      "text/plain": [
       "config.json:   0%|          | 0.00/1.15k [00:00<?, ?B/s]"
      ],
      "application/vnd.jupyter.widget-view+json": {
       "version_major": 2,
       "version_minor": 0,
       "model_id": "89697adf0b494b8dbe6fdabb335dc240"
      }
     },
     "metadata": {}
    },
    {
     "output_type": "display_data",
     "data": {
      "text/plain": [
       "vocab.json:   0%|          | 0.00/899k [00:00<?, ?B/s]"
      ],
      "application/vnd.jupyter.widget-view+json": {
       "version_major": 2,
       "version_minor": 0,
       "model_id": "bd8f9c2aaa7341298f24f27164501d60"
      }
     },
     "metadata": {}
    },
    {
     "output_type": "display_data",
     "data": {
      "text/plain": [
       "merges.txt:   0%|          | 0.00/456k [00:00<?, ?B/s]"
      ],
      "application/vnd.jupyter.widget-view+json": {
       "version_major": 2,
       "version_minor": 0,
       "model_id": "bfde2ab9c14b409baa7ec6f3f36738f0"
      }
     },
     "metadata": {}
    },
    {
     "output_type": "display_data",
     "data": {
      "text/plain": [
       "tokenizer.json:   0%|          | 0.00/1.36M [00:00<?, ?B/s]"
      ],
      "application/vnd.jupyter.widget-view+json": {
       "version_major": 2,
       "version_minor": 0,
       "model_id": "b385cc3245bf4fc89ef5bd63704c3730"
      }
     },
     "metadata": {}
    },
    {
     "output_type": "stream",
     "name": "stderr",
     "text": [
      "Xet Storage is enabled for this repo, but the 'hf_xet' package is not installed. Falling back to regular HTTP download. For better performance, install the package with: `pip install huggingface_hub[hf_xet]` or `pip install hf_xet`\n",
      "WARNING:huggingface_hub.file_download:Xet Storage is enabled for this repo, but the 'hf_xet' package is not installed. Falling back to regular HTTP download. For better performance, install the package with: `pip install huggingface_hub[hf_xet]` or `pip install hf_xet`\n"
     ]
    },
    {
     "output_type": "display_data",
     "data": {
      "text/plain": [
       "model.safetensors:   0%|          | 0.00/1.63G [00:00<?, ?B/s]"
      ],
      "application/vnd.jupyter.widget-view+json": {
       "version_major": 2,
       "version_minor": 0,
       "model_id": "59ce2024183f4d4499754d3ab7d8539d"
      }
     },
     "metadata": {}
    }
   ]
  },
  {
   "cell_type": "code",
   "source": [
    "import shutil\n",
    "\n",
    "shutil.make_archive(\"my_model\", 'zip', \"my_model\")\n"
   ],
   "metadata": {
    "colab": {
     "base_uri": "https://localhost:8080/",
     "height": 36
    },
    "id": "CHvqQvVXoTDC",
    "outputId": "afd1ad6c-ece7-4164-bdc3-e75b10fac879"
   },
   "execution_count": null,
   "outputs": [
    {
     "output_type": "execute_result",
     "data": {
      "text/plain": [
       "'/content/my_model.zip'"
      ],
      "application/vnd.google.colaboratory.intrinsic+json": {
       "type": "string"
      }
     },
     "metadata": {},
     "execution_count": 3
    }
   ]
  },
  {
   "cell_type": "code",
   "source": [
    "from google.colab import files\n",
    "files.download(\"my_model.zip\")\n"
   ],
   "metadata": {
    "colab": {
     "base_uri": "https://localhost:8080/",
     "height": 34
    },
    "id": "sUoLQB9ookch",
    "outputId": "6b662c47-8ce4-4efa-d817-2e6c44ed2d48"
   },
   "execution_count": null,
   "outputs": [
    {
     "data": {
      "application/javascript": [
       "\n",
       "    async function download(id, filename, size) {\n",
       "      if (!google.colab.kernel.accessAllowed) {\n",
       "        return;\n",
       "      }\n",
       "      const div = document.createElement('div');\n",
       "      const label = document.createElement('label');\n",
       "      label.textContent = `Downloading \"${filename}\": `;\n",
       "      div.appendChild(label);\n",
       "      const progress = document.createElement('progress');\n",
       "      progress.max = size;\n",
       "      div.appendChild(progress);\n",
       "      document.body.appendChild(div);\n",
       "\n",
       "      const buffers = [];\n",
       "      let downloaded = 0;\n",
       "\n",
       "      const channel = await google.colab.kernel.comms.open(id);\n",
       "      // Send a message to notify the kernel that we're ready.\n",
       "      channel.send({})\n",
       "\n",
       "      for await (const message of channel.messages) {\n",
       "        // Send a message to notify the kernel that we're ready.\n",
       "        channel.send({})\n",
       "        if (message.buffers) {\n",
       "          for (const buffer of message.buffers) {\n",
       "            buffers.push(buffer);\n",
       "            downloaded += buffer.byteLength;\n",
       "            progress.value = downloaded;\n",
       "          }\n",
       "        }\n",
       "      }\n",
       "      const blob = new Blob(buffers, {type: 'application/binary'});\n",
       "      const a = document.createElement('a');\n",
       "      a.href = window.URL.createObjectURL(blob);\n",
       "      a.download = filename;\n",
       "      div.appendChild(a);\n",
       "      a.click();\n",
       "      div.remove();\n",
       "    }\n",
       "  "
      ],
      "text/plain": [
       "<IPython.core.display.Javascript object>"
      ]
     },
     "metadata": {},
     "output_type": "display_data"
    },
    {
     "output_type": "display_data",
     "data": {
      "text/plain": [
       "<IPython.core.display.Javascript object>"
      ],
      "application/javascript": [
       "download(\"download_dab19ec9-ec89-4c35-8d67-d41b513cd2dd\", \"my_model.zip\", 962418559)"
      ]
     },
     "metadata": {}
    }
   ]
  }
 ]
}